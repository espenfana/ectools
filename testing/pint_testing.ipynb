# Introduction to Pint
from pint import UnitRegistry

# Create a UnitRegistry instance
ureg = UnitRegistry()



# Basic usage of Pint
distance = 10 * ureg.meter
time = 5 * ureg.second
speed = distance / time
print(f"Speed: {speed}")

# Converting units
speed_mph = speed.to('mile/hour')
print(f"Speed in mph: {speed_mph}")



import numpy as np

# Create arrays with units
distances = np.array([10, 20, 30]) * ureg.meter
times = np.array([1, 2, 3]) * ureg.second
speeds = distances / times
print(f"Speeds: {speeds}")

# Convert array units
speeds_mph = speeds.to('mile/hour')
print(f"Speeds in mph: {speeds_mph}")

import matplotlib.pyplot as plt



# Plotting with unit conversion
distances = np.linspace(0, 100, 50) * ureg.meter
times = (distances / 10) * ureg.second

# Convert to more readable units
distances = distances.to('kilometer')
times = times.to('minute')

plt.plot(times.magnitude, distances.magnitude)
plt.xlabel(f'Time ({times.units})')
plt.ylabel(f'Distance ({distances.units})')
plt.title('Distance vs Time')
plt.show()
