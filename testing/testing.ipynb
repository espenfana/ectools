{
 "cells": [
  {
   "cell_type": "code",
   "execution_count": 1,
   "metadata": {},
   "outputs": [],
   "source": [
    "import numpy as np\n",
    "import pandas as pd\n",
    "from matplotlib import pyplot as plt\n",
    "import os\n",
    "import re\n",
    "\n",
    "import ectools as ec\n"
   ]
  },
  {
   "cell_type": "code",
   "execution_count": 2,
   "metadata": {},
   "outputs": [
    {
     "name": "stdout",
     "output_type": "stream",
     "text": [
      "['240902_20_MCL13_cspWE_CV2_750C_CO2.DTA', '240902_12_MCL13_cswWE_CV2_750C_CO2.DTA', '240902_14a_OCP.DTA', '240902_21a_OCP.DTA', '240902_15a_OCP.DTA', '240902_12a_OCP.DTA', '240902_01c_MCL13_cswWE_CV20_initial_test.DTA', '240902_01b_MCL13_cswWE_CV20_initial_test.DTA', '240902_17a_OCP.DTA', '240902_05a_OCP.DTA', '240902_23a_OCP.DTA', '240902_09_MCL13_cswWE_CV2_750C_CO2.DTA', '240902_01d_MCL13_cswWE_CV20_initial_test.DTA', '240902_15_MCL13_cswWE_CV2_750C_CO2_post.DTA', '240902_19a_OCP.DTA', '240902_01_MCL13_cswWE_CV20_initial_test.DTA', '240902_11a_OCP.DTA', '240902_06a_OCP.DTA', '240902_24_MCL13_cspWE_CV2_750C_CO2.DTA', '240902_04_MCL13_cswWE_CV2_750C_CO2.DTA', '240902_05_MCL13_cswWE_CV2_750C_CO2.DTA', '240902_18a_OCP.DTA', '240902_16_MCL13_cswWE_CV10_750C_CO2.DTA', '240902_22_MCL13_cspWE_CV1_750C_CO2.DTA', '240902_14_MCL13_cswWE_CV1_750C_CO2.DTA', '240902_10_MCL13_cswWE_CV2_750C_CO2.DTA', '240902_03a_OCP.DTA', '240902_21_MCL13_cspWE_CV2_750C_CO2.DTA', '240902_08a_OCP.DTA', '240902_10a_OCP.DTA', '240902_16a_OCP.DTA', '240902_07_MCL13_cswWE_CV2_750C_CO2.DTA', '240902_22a_OCP.DTA', '240902_11_MCL13_cswWE_CV2_750C_CO2.DTA', '240902_19_MCL13_cspWE_CV2_750C_CO2.DTA', '240902_04a_OCP.DTA', '240902_20a_OCP.DTA', '240902_GALVEIS.DTA', '240902_13_MCL13_cswWE_CV1_750C_CO2.DTA', '240902_24a_OCP.DTA', '240902_23_MCL13_cspWE_CV1_750C_CO2.DTA', '240902_07a_OCP.DTA', '240902_18_MCL13_cswWE_CV50_750C_CO2.DTA', '240902_08_MCL13_cswWE_CV2_750C_CO2.DTA', '240902_03_MCL13_cswWE_CV2_750C_CO2.DTA', '240902_09a_OCP.DTA', '240902_17_MCL13_cswWE_CV20_750C_CO2.DTA', '240902_13a_OCP.DTA', '240902_06_MCL13_cswWE_CV2_750C_CO2.DTA']\n"
     ]
    }
   ],
   "source": [
    "os.getcwd()\n",
    "\n",
    "print(os.listdir('data/'))"
   ]
  },
  {
   "cell_type": "code",
   "execution_count": 3,
   "metadata": {},
   "outputs": [],
   "source": [
    "current_path = os.getcwd()\n",
    "data_path  = current_path + \"\\\\data\\\\\"\n",
    "\n",
    "data_files = os.listdir('data')"
   ]
  },
  {
   "cell_type": "code",
   "execution_count": 4,
   "metadata": {},
   "outputs": [
    {
     "name": "stdout",
     "output_type": "stream",
     "text": [
      "<class 'float'>\n",
      "<class 'float'> 49.\n",
      "<class 'float'> 49..\n",
      "ectools.parse_file_gamry error:\n",
      "'curr'\n",
      "<class 'float'> 49...\n",
      "ectools.parse_file_gamry error:\n",
      "'curr'\n",
      "<class 'float'> 49....\n",
      "ectools.parse_file_gamry error:\n",
      "'curr'\n",
      "<class 'float'> 49.....\n",
      "ectools.parse_file_gamry error:\n",
      "'curr'\n",
      "ectools.parse_file_gamry error:\n",
      "\n",
      "<class 'float'> 49.......\n",
      "<class 'float'> 49.\n",
      "ectools.parse_file_gamry error:\n",
      "'curr'\n",
      "<class 'float'> 49..\n",
      "ectools.parse_file_gamry error:\n",
      "'curr'\n",
      "<class 'float'> 49...\n",
      "ectools.parse_file_gamry error:\n",
      "'curr'\n",
      "<class 'float'>f 49....\n",
      "ectools.parse_file_gamry error:\n",
      "\n",
      "<class 'float'>f 49......\n",
      "<class 'float'>f 49.......\n",
      "ectools.parse_file_gamry error:\n",
      "'curr'\n",
      "<class 'float'>f 49.\n",
      "<class 'float'>f 49..\n",
      "ectools.parse_file_gamry error:\n",
      "'curr'\n",
      "<class 'float'>f 49...\n",
      "ectools.parse_file_gamry error:\n",
      "'curr'\n",
      "<class 'float'>f 49....\n",
      "<class 'float'>f 49.....\n",
      "<class 'float'>f 49......\n",
      "<class 'float'>f 49.......\n",
      "ectools.parse_file_gamry error:\n",
      "'curr'\n",
      "<class 'float'>f 49.\n",
      "<class 'float'>f 49..\n",
      "<class 'float'>f 49...\n",
      "<class 'float'>f 49....\n",
      "<class 'float'>f 49.....\n",
      "ectools.parse_file_gamry error:\n",
      "'curr'\n",
      "<class 'float'>f 49......\n",
      "<class 'float'>f 49.......\n",
      "ectools.parse_file_gamry error:\n",
      "'curr'\n",
      "<class 'float'>f 49.\n",
      "ectools.parse_file_gamry error:\n",
      "'curr'\n",
      "<class 'float'>f 49..\n",
      "ectools.parse_file_gamry error:\n",
      "'curr'\n",
      "<class 'float'>f 49...\n",
      "<class 'float'>f 49....\n",
      "ectools.parse_file_gamry error:\n",
      "'curr'\n",
      "<class 'float'>f 49.....\n",
      "<class 'float'>f 49......\n",
      "<class 'float'>f 49.......\n",
      "ectools.parse_file_gamry error:\n",
      "'curr'\n",
      "<class 'float'>f 49.\n",
      "ectools.parse_file_gamry error:\n",
      "'curr'\n",
      "ectools.parse_file_gamry error:\n",
      "'utf-8' codec can't decode byte 0xb0 in position 6567: invalid start byte\n",
      "<class 'float'>f 49...\n",
      "<class 'float'>f 49....\n",
      "ectools.parse_file_gamry error:\n",
      "'curr'\n",
      "<class 'float'>f 49.....\n",
      "<class 'float'>f 49......\n",
      "ectools.parse_file_gamry error:\n",
      "'curr'\n",
      "<class 'float'>f 49.......\n",
      "<class 'float'>f 49.\n",
      "<class 'float'>f 49..\n",
      "<class 'float'>f 49...\n",
      "ectools.parse_file_gamry error:\n",
      "'curr'\n",
      "<class 'float'>f 49....\n",
      "<class 'float'>f 49.....\n",
      "ectools.parse_file_gamry error:\n",
      "'curr'\n",
      "<class 'float'>f 49......\n",
      "Processed 49 files, parsed 24\n",
      "ecList with 24 items\n"
     ]
    }
   ],
   "source": [
    "imp = ec.ecImporter()\n",
    "#f = imp.load_folder(data_path)\n",
    "f = imp.load_folder('data')\n",
    "print(f)"
   ]
  },
  {
   "cell_type": "code",
   "execution_count": 5,
   "metadata": {},
   "outputs": [
    {
     "ename": "AttributeError",
     "evalue": "'ecList' object has no attribute 'log'",
     "output_type": "error",
     "traceback": [
      "\u001b[0;31m---------------------------------------------------------------------------\u001b[0m",
      "\u001b[0;31mAttributeError\u001b[0m                            Traceback (most recent call last)",
      "Cell \u001b[0;32mIn[5], line 1\u001b[0m\n\u001b[0;32m----> 1\u001b[0m \u001b[38;5;28mprint\u001b[39m(\u001b[43mf\u001b[49m\u001b[38;5;241;43m.\u001b[39;49m\u001b[43mlog\u001b[49m)\n",
      "\u001b[0;31mAttributeError\u001b[0m: 'ecList' object has no attribute 'log'"
     ]
    }
   ],
   "source": []
  },
  {
   "cell_type": "code",
   "execution_count": 6,
   "metadata": {},
   "outputs": [
    {
     "name": "stdout",
     "output_type": "stream",
     "text": [
      "{'TAG': {'value': 'CV'}, 'TITLE': {'label': 'LABEL', 'value': 'Cyclic Voltammetry', 'description': 'Test Identifier'}, 'DATE': {'label': 'LABEL', 'value': '9/3/2024', 'description': 'Date'}, 'TIME': {'label': 'LABEL', 'value': '17:42:40', 'description': 'Time'}, 'NOTES': {'value': 'cswWE - carbon steel wirecspWE - carbon steel plate 2x2 taperedCarbon steel plate counter electrodeCarbon steel wire reference electrode'}, 'PSTAT': {'label': 'PSTAT', 'value': 'REF3000-48128', 'description': 'Potentiostat'}, 'VINIT': {'label': 'POTEN', 'value': '0.00000E+000', 'description': 'T, Initial E (V)'}, 'VLIMIT1': {'label': 'POTEN', 'value': '1.70000E+000', 'description': 'F, Scan Limit 1 (V)'}, 'VLIMIT2': {'label': 'POTEN', 'value': '-1.00000E+000', 'description': 'F, Scan Limit 2 (V)'}, 'VFINAL': {'label': 'POTEN', 'value': '1.70000E+000', 'description': 'F, Final E (V)'}, 'SCANRATE': {'label': 'QUANT', 'value': '4.99999E+001', 'description': 'Scan Rate (mV/s)'}, 'STEPSIZE': {'label': 'QUANT', 'value': '1.00000E+000', 'description': 'Step Size (mV)'}, 'CYCLES': {'label': 'IQUANT', 'value': '6', 'description': 'Cycles (#)'}, 'IMODE': {'label': 'SELECTOR', 'value': '0', 'description': 'I/E Range Mode'}, 'IRANGE': {'label': 'QUANT', 'value': '3.00000E-001', 'description': 'Max Current (mA)'}, 'AREA': {'label': 'QUANT', 'value': '1.00000E+000', 'description': 'Sample Area (cm^2)'}, 'EQDELAY': {'label': 'QUANT', 'value': '0.00000E+000', 'description': 'Equil. Time (s)'}, 'IRCOMP': {'label': 'SELECTOR', 'value': '0', 'description': 'IRComp'}, 'PFCOR': {'label': 'QUANT', 'value': '5.00000E+001', 'description': 'PF Corr. (ohm)'}, 'SAMPLINGMODE': {'label': 'SELECTOR', 'value': '1', 'description': 'Sampling Mode'}, 'EOC': {'label': 'QUANT', 'value': '0.1485671', 'description': 'Open Circuit (V)'}, 'ELECTRODETYPE': {'label': 'SELECTOR', 'value': '0', 'description': 'Electrode Type'}, 'STRIPPING': {'label': 'TOGGLE', 'value': 'F', 'description': 'Used for Stripping'}, 'SEQUENCER': {'label': 'TOGGLE', 'value': 'TRUE', 'description': 'Run as Sequence'}, 'PSTATMODEL': {'label': 'IQUANT', 'value': '5', 'description': 'Pstat Model'}, 'PSTATSECTION': {'label': 'LABEL', 'value': 'REF3000-48128', 'description': 'Pstat Section'}, 'PSTATSERIALNO': {'label': 'LABEL', 'value': '48128', 'description': 'Pstat Serial Number'}, 'CTRLMODE': {'label': 'IQUANT', 'value': '1', 'description': 'Control Mode'}, 'ELECTROMETER': {'label': 'IQUANT', 'value': '0', 'description': 'RE=0 or CS=1'}, 'IESTAB': {'label': 'IQUANT', 'value': '2', 'description': 'I/E Stability'}, 'CASPEED': {'label': 'IQUANT', 'value': '4', 'description': 'Control Amp Speed'}, 'CONVENTION': {'label': 'IQUANT', 'value': '1', 'description': 'Current Convention'}, 'ICHRANGE': {'label': 'IQUANT', 'value': '2', 'description': 'Ich Range'}, 'ICHRANGEMODE': {'label': 'TOGGLE', 'value': 'F', 'description': 'Ich Auto Range'}, 'ICHOFFSETENABLE': {'label': 'TOGGLE', 'value': 'F', 'description': 'Ich Offset Enable'}, 'ICHOFFSET': {'label': 'QUANT', 'value': '0', 'description': 'Ich Offset (V)'}, 'ICHFILTER': {'label': 'IQUANT', 'value': '2', 'description': 'Ich Filter'}, 'VCHRANGE': {'label': 'IQUANT', 'value': '2', 'description': 'Vch Range'}, 'VCHRANGEMODE': {'label': 'TOGGLE', 'value': 'F', 'description': 'Vch Auto Range'}, 'VCHOFFSETENABLE': {'label': 'TOGGLE', 'value': 'F', 'description': 'Vch Offset Enable'}, 'VCHOFFSET': {'label': 'QUANT', 'value': '0', 'description': 'Vch Offset (V)'}, 'VCHFILTER': {'label': 'IQUANT', 'value': '2', 'description': 'Vch Filter'}, 'ACHRANGE': {'label': 'IQUANT', 'value': '2', 'description': 'Ach Range'}, 'ACHOFFSETENABLE': {'label': 'TOGGLE', 'value': 'F', 'description': 'Ach Offset Enable'}, 'ACHOFFSET': {'label': 'QUANT', 'value': '0', 'description': 'Ach Offset (V)'}, 'ACHFILTER': {'label': 'IQUANT', 'value': '1', 'description': 'Ach Filter'}, 'IERANGELOWERLIMIT': {'label': 'IQUANT', 'value': '2', 'description': 'I/E Range Lower Limit'}, 'IERANGEMODE': {'label': 'TOGGLE', 'value': 'T', 'description': 'I/E AutoRange'}, 'IERANGE': {'label': 'IQUANT', 'value': '9', 'description': 'I/E Range'}, 'POSFEEDENABLE': {'label': 'TOGGLE', 'value': 'F', 'description': 'Positive Feedback IR Comp'}, 'POSFEEDRESISTANCE': {'label': 'QUANT', 'value': '0', 'description': 'Positive Feedback Resistance (ohm)'}, 'ACHSELECT': {'label': 'IQUANT', 'value': '4', 'description': 'Ach Select'}, 'SENSECABLEID': {'label': 'IQUANT', 'value': '14', 'description': 'Sense Cable ID'}, 'PWRCABLEID': {'label': 'IQUANT', 'value': '7', 'description': 'Power Cable ID'}, 'DCCALDATE': {'label': 'LABEL', 'value': '8/16/2024', 'description': 'DC Calibration Date'}, 'ACCALDATE': {'label': 'LABEL', 'value': '8/16/2024', 'description': 'AC Calibration Date'}, 'THERMOSELECT': {'label': 'IQUANT', 'value': '1', 'description': 'Thermo Select'}, 'FRAMEWORKVERSION': {'label': 'LABEL', 'value': '7.10.3', 'description': 'Framework Version'}, 'INSTRUMENTVERSION': {'label': 'LABEL', 'value': '4.91', 'description': 'Instrument Version'}, 'COMMVERSION': {'label': 'LABEL', 'value': '5.10', 'description': 'Communications Version'}, 'CPUPLDVERSION': {'label': 'LABEL', 'value': '6.00', 'description': 'CPU PLD Version'}, 'CTRLPLDVERSION': {'label': 'LABEL', 'value': '3.21', 'description': 'CTRL PLD Version'}, 'PSTATPLDVERSION': {'label': 'LABEL', 'value': '0.00', 'description': 'PSTAT PLD Version'}, 'COMPLIANCEVOLTAGE': {'label': 'IQUANT', 'value': '0', 'description': 'Compliance Voltage'}}\n"
     ]
    }
   ],
   "source": [
    "\n",
    "fpath = 'data/'\n",
    "fname = '240902_18_MCL13_cswWE_CV50_750C_CO2.DTA'\n",
    "\n",
    "meta_dict = {}\n",
    "with open(fpath + fname) as f: # Open the file to read the first lines\n",
    "    while line:=f.readline().strip():\n",
    "        line = line.split('\\t')\n",
    "        if \"TABLE\" in line:\n",
    "            break\n",
    "        match len(line):\n",
    "            case 1:\n",
    "                continue\n",
    "            case 2: \n",
    "                meta_dict[line[0]] = {'value': line[1]}\n",
    "            case 4 | 5:\n",
    "                if line[0] == 'NOTES': # handle the multi-line note field\n",
    "                    meta_dict[line[0]] = {'value': \"\"}\n",
    "                    for i in range(0,int(line[2])):\n",
    "                        meta_dict[line[0]]['value'] += f.readline().strip() # this also accounts for empty lines in notes, so the while loop keeps running\n",
    "                else:\n",
    "                    meta_dict[line[0]] = {\n",
    "                        'label': line[1],\n",
    "                        'value': line[2],\n",
    "                        'description': ', '.join(line[3:])\n",
    "                    }\n",
    "            case _:\n",
    "                print('WTF?') # todo raise error\n",
    "                print(line)\n",
    "\n",
    "print(meta_dict)\n"
   ]
  },
  {
   "cell_type": "markdown",
   "metadata": {},
   "source": [
    "# Live testing"
   ]
  },
  {
   "cell_type": "code",
   "execution_count": 7,
   "metadata": {},
   "outputs": [
    {
     "name": "stdout",
     "output_type": "stream",
     "text": [
      "<class 'float'>\n"
     ]
    }
   ],
   "source": [
    "import numpy as np\n",
    "import pandas as pd\n",
    "from matplotlib import pyplot as plt\n",
    "import os\n",
    "from datetime import datetime, timedelta\n",
    "\n",
    "import ectools as ec\n",
    "\n",
    "fpath = 'data/'\n",
    "fname = '240902_18_MCL13_cswWE_CV50_750C_CO2.DTA'\n",
    "\n",
    "imp = ec.ecImporter()\n",
    "f = imp.load_file(fpath, fname)"
   ]
  },
  {
   "cell_type": "code",
   "execution_count": 8,
   "metadata": {},
   "outputs": [
    {
     "ename": "AttributeError",
     "evalue": "'CyclicVoltammetry' object has no attribute 'starttime'",
     "output_type": "error",
     "traceback": [
      "\u001b[0;31m---------------------------------------------------------------------------\u001b[0m",
      "\u001b[0;31mAttributeError\u001b[0m                            Traceback (most recent call last)",
      "Cell \u001b[0;32mIn[8], line 1\u001b[0m\n\u001b[0;32m----> 1\u001b[0m f\u001b[38;5;241m.\u001b[39mtime[\u001b[38;5;241m0\u001b[39m]\u001b[38;5;241m.\u001b[39mastype(timedelta) \u001b[38;5;241m+\u001b[39m \u001b[43mf\u001b[49m\u001b[38;5;241;43m.\u001b[39;49m\u001b[43mstarttime\u001b[49m\n",
      "\u001b[0;31mAttributeError\u001b[0m: 'CyclicVoltammetry' object has no attribute 'starttime'"
     ]
    }
   ],
   "source": [
    "\n",
    "f.time[0].astype(timedelta) + f.starttime"
   ]
  },
  {
   "cell_type": "code",
   "execution_count": 9,
   "metadata": {},
   "outputs": [
    {
     "ename": "AttributeError",
     "evalue": "'CyclicVoltammetry' object has no attribute 'starttime'",
     "output_type": "error",
     "traceback": [
      "\u001b[0;31m---------------------------------------------------------------------------\u001b[0m",
      "\u001b[0;31mAttributeError\u001b[0m                            Traceback (most recent call last)",
      "Cell \u001b[0;32mIn[9], line 1\u001b[0m\n\u001b[0;32m----> 1\u001b[0m \u001b[43mf\u001b[49m\u001b[38;5;241;43m.\u001b[39;49m\u001b[43mstarttime\u001b[49m \u001b[38;5;241m+\u001b[39m timedelta (\u001b[38;5;241m10\u001b[39m)\n",
      "\u001b[0;31mAttributeError\u001b[0m: 'CyclicVoltammetry' object has no attribute 'starttime'"
     ]
    }
   ],
   "source": [
    "f.starttime + timedelta (10)"
   ]
  },
  {
   "cell_type": "code",
   "execution_count": 35,
   "metadata": {},
   "outputs": [],
   "source": [
    "a = np.array(f.time, dtype=timedelta)[10]"
   ]
  },
  {
   "cell_type": "code",
   "execution_count": 37,
   "metadata": {},
   "outputs": [
    {
     "ename": "TypeError",
     "evalue": "unsupported type for timedelta days component: str",
     "output_type": "error",
     "traceback": [
      "\u001b[0;31m---------------------------------------------------------------------------\u001b[0m",
      "\u001b[0;31mTypeError\u001b[0m                                 Traceback (most recent call last)",
      "Cell \u001b[0;32mIn[37], line 1\u001b[0m\n\u001b[0;32m----> 1\u001b[0m \u001b[43mtimedelta\u001b[49m\u001b[43m(\u001b[49m\u001b[38;5;124;43m'\u001b[39;49m\u001b[38;5;124;43m1s\u001b[39;49m\u001b[38;5;124;43m'\u001b[39;49m\u001b[43m)\u001b[49m\n",
      "\u001b[0;31mTypeError\u001b[0m: unsupported type for timedelta days component: str"
     ]
    }
   ],
   "source": [
    "timedelta()"
   ]
  },
  {
   "cell_type": "code",
   "execution_count": 39,
   "metadata": {},
   "outputs": [
    {
     "data": {
      "text/plain": [
       "numpy.timedelta64(2,'ms')"
      ]
     },
     "execution_count": 39,
     "metadata": {},
     "output_type": "execute_result"
    }
   ],
   "source": [
    "np.array(f.time, dtype='timedelta64[ms]')[100]"
   ]
  },
  {
   "cell_type": "code",
   "execution_count": 40,
   "metadata": {},
   "outputs": [
    {
     "ename": "DTypePromotionError",
     "evalue": "The DType <class 'numpy.dtypes.TimeDelta64DType'> could not be promoted by <class 'numpy.dtypes.Float64DType'>. This means that no common DType exists for the given inputs. For example they cannot be stored in a single array unless the dtype is `object`. The full list of DTypes is: (<class 'numpy.dtypes.TimeDelta64DType'>, <class 'numpy.dtypes.Float64DType'>)",
     "output_type": "error",
     "traceback": [
      "\u001b[0;31m---------------------------------------------------------------------------\u001b[0m",
      "\u001b[0;31mDTypePromotionError\u001b[0m                       Traceback (most recent call last)",
      "Cell \u001b[0;32mIn[40], line 1\u001b[0m\n\u001b[0;32m----> 1\u001b[0m \u001b[43mplt\u001b[49m\u001b[38;5;241;43m.\u001b[39;49m\u001b[43mscatter\u001b[49m\u001b[43m(\u001b[49m\u001b[43mnp\u001b[49m\u001b[38;5;241;43m.\u001b[39;49m\u001b[43marray\u001b[49m\u001b[43m(\u001b[49m\u001b[43mf\u001b[49m\u001b[38;5;241;43m.\u001b[39;49m\u001b[43mtime\u001b[49m\u001b[43m,\u001b[49m\u001b[43m \u001b[49m\u001b[43mdtype\u001b[49m\u001b[38;5;241;43m=\u001b[39;49m\u001b[38;5;124;43m'\u001b[39;49m\u001b[38;5;124;43mtimedelta64[ms]\u001b[39;49m\u001b[38;5;124;43m'\u001b[39;49m\u001b[43m)\u001b[49m\u001b[43m[\u001b[49m\u001b[43m:\u001b[49m\u001b[38;5;241;43m10\u001b[39;49m\u001b[43m]\u001b[49m\u001b[43m,\u001b[49m\u001b[43m \u001b[49m\u001b[43mf\u001b[49m\u001b[38;5;241;43m.\u001b[39;49m\u001b[43mpot\u001b[49m\u001b[43m[\u001b[49m\u001b[43m:\u001b[49m\u001b[38;5;241;43m10\u001b[39;49m\u001b[43m]\u001b[49m\u001b[43m)\u001b[49m\n\u001b[1;32m      2\u001b[0m plt\u001b[38;5;241m.\u001b[39mshow()\n",
      "File \u001b[0;32m~/miniconda3/lib/python3.12/site-packages/matplotlib/pyplot.py:3903\u001b[0m, in \u001b[0;36mscatter\u001b[0;34m(x, y, s, c, marker, cmap, norm, vmin, vmax, alpha, linewidths, edgecolors, plotnonfinite, data, **kwargs)\u001b[0m\n\u001b[1;32m   3884\u001b[0m \u001b[38;5;129m@_copy_docstring_and_deprecators\u001b[39m(Axes\u001b[38;5;241m.\u001b[39mscatter)\n\u001b[1;32m   3885\u001b[0m \u001b[38;5;28;01mdef\u001b[39;00m \u001b[38;5;21mscatter\u001b[39m(\n\u001b[1;32m   3886\u001b[0m     x: \u001b[38;5;28mfloat\u001b[39m \u001b[38;5;241m|\u001b[39m ArrayLike,\n\u001b[0;32m   (...)\u001b[0m\n\u001b[1;32m   3901\u001b[0m     \u001b[38;5;241m*\u001b[39m\u001b[38;5;241m*\u001b[39mkwargs,\n\u001b[1;32m   3902\u001b[0m ) \u001b[38;5;241m-\u001b[39m\u001b[38;5;241m>\u001b[39m PathCollection:\n\u001b[0;32m-> 3903\u001b[0m     __ret \u001b[38;5;241m=\u001b[39m \u001b[43mgca\u001b[49m\u001b[43m(\u001b[49m\u001b[43m)\u001b[49m\u001b[38;5;241;43m.\u001b[39;49m\u001b[43mscatter\u001b[49m\u001b[43m(\u001b[49m\n\u001b[1;32m   3904\u001b[0m \u001b[43m        \u001b[49m\u001b[43mx\u001b[49m\u001b[43m,\u001b[49m\n\u001b[1;32m   3905\u001b[0m \u001b[43m        \u001b[49m\u001b[43my\u001b[49m\u001b[43m,\u001b[49m\n\u001b[1;32m   3906\u001b[0m \u001b[43m        \u001b[49m\u001b[43ms\u001b[49m\u001b[38;5;241;43m=\u001b[39;49m\u001b[43ms\u001b[49m\u001b[43m,\u001b[49m\n\u001b[1;32m   3907\u001b[0m \u001b[43m        \u001b[49m\u001b[43mc\u001b[49m\u001b[38;5;241;43m=\u001b[39;49m\u001b[43mc\u001b[49m\u001b[43m,\u001b[49m\n\u001b[1;32m   3908\u001b[0m \u001b[43m        \u001b[49m\u001b[43mmarker\u001b[49m\u001b[38;5;241;43m=\u001b[39;49m\u001b[43mmarker\u001b[49m\u001b[43m,\u001b[49m\n\u001b[1;32m   3909\u001b[0m \u001b[43m        \u001b[49m\u001b[43mcmap\u001b[49m\u001b[38;5;241;43m=\u001b[39;49m\u001b[43mcmap\u001b[49m\u001b[43m,\u001b[49m\n\u001b[1;32m   3910\u001b[0m \u001b[43m        \u001b[49m\u001b[43mnorm\u001b[49m\u001b[38;5;241;43m=\u001b[39;49m\u001b[43mnorm\u001b[49m\u001b[43m,\u001b[49m\n\u001b[1;32m   3911\u001b[0m \u001b[43m        \u001b[49m\u001b[43mvmin\u001b[49m\u001b[38;5;241;43m=\u001b[39;49m\u001b[43mvmin\u001b[49m\u001b[43m,\u001b[49m\n\u001b[1;32m   3912\u001b[0m \u001b[43m        \u001b[49m\u001b[43mvmax\u001b[49m\u001b[38;5;241;43m=\u001b[39;49m\u001b[43mvmax\u001b[49m\u001b[43m,\u001b[49m\n\u001b[1;32m   3913\u001b[0m \u001b[43m        \u001b[49m\u001b[43malpha\u001b[49m\u001b[38;5;241;43m=\u001b[39;49m\u001b[43malpha\u001b[49m\u001b[43m,\u001b[49m\n\u001b[1;32m   3914\u001b[0m \u001b[43m        \u001b[49m\u001b[43mlinewidths\u001b[49m\u001b[38;5;241;43m=\u001b[39;49m\u001b[43mlinewidths\u001b[49m\u001b[43m,\u001b[49m\n\u001b[1;32m   3915\u001b[0m \u001b[43m        \u001b[49m\u001b[43medgecolors\u001b[49m\u001b[38;5;241;43m=\u001b[39;49m\u001b[43medgecolors\u001b[49m\u001b[43m,\u001b[49m\n\u001b[1;32m   3916\u001b[0m \u001b[43m        \u001b[49m\u001b[43mplotnonfinite\u001b[49m\u001b[38;5;241;43m=\u001b[39;49m\u001b[43mplotnonfinite\u001b[49m\u001b[43m,\u001b[49m\n\u001b[1;32m   3917\u001b[0m \u001b[43m        \u001b[49m\u001b[38;5;241;43m*\u001b[39;49m\u001b[38;5;241;43m*\u001b[39;49m\u001b[43m(\u001b[49m\u001b[43m{\u001b[49m\u001b[38;5;124;43m\"\u001b[39;49m\u001b[38;5;124;43mdata\u001b[39;49m\u001b[38;5;124;43m\"\u001b[39;49m\u001b[43m:\u001b[49m\u001b[43m \u001b[49m\u001b[43mdata\u001b[49m\u001b[43m}\u001b[49m\u001b[43m \u001b[49m\u001b[38;5;28;43;01mif\u001b[39;49;00m\u001b[43m \u001b[49m\u001b[43mdata\u001b[49m\u001b[43m \u001b[49m\u001b[38;5;129;43;01mis\u001b[39;49;00m\u001b[43m \u001b[49m\u001b[38;5;129;43;01mnot\u001b[39;49;00m\u001b[43m \u001b[49m\u001b[38;5;28;43;01mNone\u001b[39;49;00m\u001b[43m \u001b[49m\u001b[38;5;28;43;01melse\u001b[39;49;00m\u001b[43m \u001b[49m\u001b[43m{\u001b[49m\u001b[43m}\u001b[49m\u001b[43m)\u001b[49m\u001b[43m,\u001b[49m\n\u001b[1;32m   3918\u001b[0m \u001b[43m        \u001b[49m\u001b[38;5;241;43m*\u001b[39;49m\u001b[38;5;241;43m*\u001b[39;49m\u001b[43mkwargs\u001b[49m\u001b[43m,\u001b[49m\n\u001b[1;32m   3919\u001b[0m \u001b[43m    \u001b[49m\u001b[43m)\u001b[49m\n\u001b[1;32m   3920\u001b[0m     sci(__ret)\n\u001b[1;32m   3921\u001b[0m     \u001b[38;5;28;01mreturn\u001b[39;00m __ret\n",
      "File \u001b[0;32m~/miniconda3/lib/python3.12/site-packages/matplotlib/__init__.py:1473\u001b[0m, in \u001b[0;36m_preprocess_data.<locals>.inner\u001b[0;34m(ax, data, *args, **kwargs)\u001b[0m\n\u001b[1;32m   1470\u001b[0m \u001b[38;5;129m@functools\u001b[39m\u001b[38;5;241m.\u001b[39mwraps(func)\n\u001b[1;32m   1471\u001b[0m \u001b[38;5;28;01mdef\u001b[39;00m \u001b[38;5;21minner\u001b[39m(ax, \u001b[38;5;241m*\u001b[39margs, data\u001b[38;5;241m=\u001b[39m\u001b[38;5;28;01mNone\u001b[39;00m, \u001b[38;5;241m*\u001b[39m\u001b[38;5;241m*\u001b[39mkwargs):\n\u001b[1;32m   1472\u001b[0m     \u001b[38;5;28;01mif\u001b[39;00m data \u001b[38;5;129;01mis\u001b[39;00m \u001b[38;5;28;01mNone\u001b[39;00m:\n\u001b[0;32m-> 1473\u001b[0m         \u001b[38;5;28;01mreturn\u001b[39;00m \u001b[43mfunc\u001b[49m\u001b[43m(\u001b[49m\n\u001b[1;32m   1474\u001b[0m \u001b[43m            \u001b[49m\u001b[43max\u001b[49m\u001b[43m,\u001b[49m\n\u001b[1;32m   1475\u001b[0m \u001b[43m            \u001b[49m\u001b[38;5;241;43m*\u001b[39;49m\u001b[38;5;28;43mmap\u001b[39;49m\u001b[43m(\u001b[49m\u001b[43msanitize_sequence\u001b[49m\u001b[43m,\u001b[49m\u001b[43m \u001b[49m\u001b[43margs\u001b[49m\u001b[43m)\u001b[49m\u001b[43m,\u001b[49m\n\u001b[1;32m   1476\u001b[0m \u001b[43m            \u001b[49m\u001b[38;5;241;43m*\u001b[39;49m\u001b[38;5;241;43m*\u001b[39;49m\u001b[43m{\u001b[49m\u001b[43mk\u001b[49m\u001b[43m:\u001b[49m\u001b[43m \u001b[49m\u001b[43msanitize_sequence\u001b[49m\u001b[43m(\u001b[49m\u001b[43mv\u001b[49m\u001b[43m)\u001b[49m\u001b[43m \u001b[49m\u001b[38;5;28;43;01mfor\u001b[39;49;00m\u001b[43m \u001b[49m\u001b[43mk\u001b[49m\u001b[43m,\u001b[49m\u001b[43m \u001b[49m\u001b[43mv\u001b[49m\u001b[43m \u001b[49m\u001b[38;5;129;43;01min\u001b[39;49;00m\u001b[43m \u001b[49m\u001b[43mkwargs\u001b[49m\u001b[38;5;241;43m.\u001b[39;49m\u001b[43mitems\u001b[49m\u001b[43m(\u001b[49m\u001b[43m)\u001b[49m\u001b[43m}\u001b[49m\u001b[43m)\u001b[49m\n\u001b[1;32m   1478\u001b[0m     bound \u001b[38;5;241m=\u001b[39m new_sig\u001b[38;5;241m.\u001b[39mbind(ax, \u001b[38;5;241m*\u001b[39margs, \u001b[38;5;241m*\u001b[39m\u001b[38;5;241m*\u001b[39mkwargs)\n\u001b[1;32m   1479\u001b[0m     auto_label \u001b[38;5;241m=\u001b[39m (bound\u001b[38;5;241m.\u001b[39marguments\u001b[38;5;241m.\u001b[39mget(label_namer)\n\u001b[1;32m   1480\u001b[0m                   \u001b[38;5;129;01mor\u001b[39;00m bound\u001b[38;5;241m.\u001b[39mkwargs\u001b[38;5;241m.\u001b[39mget(label_namer))\n",
      "File \u001b[0;32m~/miniconda3/lib/python3.12/site-packages/matplotlib/axes/_axes.py:4874\u001b[0m, in \u001b[0;36mAxes.scatter\u001b[0;34m(self, x, y, s, c, marker, cmap, norm, vmin, vmax, alpha, linewidths, edgecolors, plotnonfinite, **kwargs)\u001b[0m\n\u001b[1;32m   4869\u001b[0m     \u001b[38;5;28;01melif\u001b[39;00m np\u001b[38;5;241m.\u001b[39miterable(linewidths):\n\u001b[1;32m   4870\u001b[0m         linewidths \u001b[38;5;241m=\u001b[39m [\n\u001b[1;32m   4871\u001b[0m             lw \u001b[38;5;28;01mif\u001b[39;00m lw \u001b[38;5;129;01mis\u001b[39;00m \u001b[38;5;129;01mnot\u001b[39;00m \u001b[38;5;28;01mNone\u001b[39;00m \u001b[38;5;28;01melse\u001b[39;00m mpl\u001b[38;5;241m.\u001b[39mrcParams[\u001b[38;5;124m'\u001b[39m\u001b[38;5;124mlines.linewidth\u001b[39m\u001b[38;5;124m'\u001b[39m]\n\u001b[1;32m   4872\u001b[0m             \u001b[38;5;28;01mfor\u001b[39;00m lw \u001b[38;5;129;01min\u001b[39;00m linewidths]\n\u001b[0;32m-> 4874\u001b[0m offsets \u001b[38;5;241m=\u001b[39m \u001b[43mnp\u001b[49m\u001b[38;5;241;43m.\u001b[39;49m\u001b[43mma\u001b[49m\u001b[38;5;241;43m.\u001b[39;49m\u001b[43mcolumn_stack\u001b[49m\u001b[43m(\u001b[49m\u001b[43m[\u001b[49m\u001b[43mx\u001b[49m\u001b[43m,\u001b[49m\u001b[43m \u001b[49m\u001b[43my\u001b[49m\u001b[43m]\u001b[49m\u001b[43m)\u001b[49m\n\u001b[1;32m   4876\u001b[0m collection \u001b[38;5;241m=\u001b[39m mcoll\u001b[38;5;241m.\u001b[39mPathCollection(\n\u001b[1;32m   4877\u001b[0m     (path,), scales,\n\u001b[1;32m   4878\u001b[0m     facecolors\u001b[38;5;241m=\u001b[39mcolors,\n\u001b[0;32m   (...)\u001b[0m\n\u001b[1;32m   4883\u001b[0m     alpha\u001b[38;5;241m=\u001b[39malpha,\n\u001b[1;32m   4884\u001b[0m )\n\u001b[1;32m   4885\u001b[0m collection\u001b[38;5;241m.\u001b[39mset_transform(mtransforms\u001b[38;5;241m.\u001b[39mIdentityTransform())\n",
      "File \u001b[0;32m~/miniconda3/lib/python3.12/site-packages/numpy/ma/extras.py:289\u001b[0m, in \u001b[0;36m_fromnxfunction_seq.__call__\u001b[0;34m(self, x, *args, **params)\u001b[0m\n\u001b[1;32m    287\u001b[0m \u001b[38;5;28;01mdef\u001b[39;00m \u001b[38;5;21m__call__\u001b[39m(\u001b[38;5;28mself\u001b[39m, x, \u001b[38;5;241m*\u001b[39margs, \u001b[38;5;241m*\u001b[39m\u001b[38;5;241m*\u001b[39mparams):\n\u001b[1;32m    288\u001b[0m     func \u001b[38;5;241m=\u001b[39m \u001b[38;5;28mgetattr\u001b[39m(np, \u001b[38;5;28mself\u001b[39m\u001b[38;5;241m.\u001b[39m\u001b[38;5;18m__name__\u001b[39m)\n\u001b[0;32m--> 289\u001b[0m     _d \u001b[38;5;241m=\u001b[39m \u001b[43mfunc\u001b[49m\u001b[43m(\u001b[49m\u001b[38;5;28;43mtuple\u001b[39;49m\u001b[43m(\u001b[49m\u001b[43m[\u001b[49m\u001b[43mnp\u001b[49m\u001b[38;5;241;43m.\u001b[39;49m\u001b[43masarray\u001b[49m\u001b[43m(\u001b[49m\u001b[43ma\u001b[49m\u001b[43m)\u001b[49m\u001b[43m \u001b[49m\u001b[38;5;28;43;01mfor\u001b[39;49;00m\u001b[43m \u001b[49m\u001b[43ma\u001b[49m\u001b[43m \u001b[49m\u001b[38;5;129;43;01min\u001b[39;49;00m\u001b[43m \u001b[49m\u001b[43mx\u001b[49m\u001b[43m]\u001b[49m\u001b[43m)\u001b[49m\u001b[43m,\u001b[49m\u001b[43m \u001b[49m\u001b[38;5;241;43m*\u001b[39;49m\u001b[43margs\u001b[49m\u001b[43m,\u001b[49m\u001b[43m \u001b[49m\u001b[38;5;241;43m*\u001b[39;49m\u001b[38;5;241;43m*\u001b[39;49m\u001b[43mparams\u001b[49m\u001b[43m)\u001b[49m\n\u001b[1;32m    290\u001b[0m     _m \u001b[38;5;241m=\u001b[39m func(\u001b[38;5;28mtuple\u001b[39m([getmaskarray(a) \u001b[38;5;28;01mfor\u001b[39;00m a \u001b[38;5;129;01min\u001b[39;00m x]), \u001b[38;5;241m*\u001b[39margs, \u001b[38;5;241m*\u001b[39m\u001b[38;5;241m*\u001b[39mparams)\n\u001b[1;32m    291\u001b[0m     \u001b[38;5;28;01mreturn\u001b[39;00m masked_array(_d, mask\u001b[38;5;241m=\u001b[39m_m)\n",
      "File \u001b[0;32m~/miniconda3/lib/python3.12/site-packages/numpy/lib/shape_base.py:652\u001b[0m, in \u001b[0;36mcolumn_stack\u001b[0;34m(tup)\u001b[0m\n\u001b[1;32m    650\u001b[0m         arr \u001b[38;5;241m=\u001b[39m array(arr, copy\u001b[38;5;241m=\u001b[39m\u001b[38;5;28;01mFalse\u001b[39;00m, subok\u001b[38;5;241m=\u001b[39m\u001b[38;5;28;01mTrue\u001b[39;00m, ndmin\u001b[38;5;241m=\u001b[39m\u001b[38;5;241m2\u001b[39m)\u001b[38;5;241m.\u001b[39mT\n\u001b[1;32m    651\u001b[0m     arrays\u001b[38;5;241m.\u001b[39mappend(arr)\n\u001b[0;32m--> 652\u001b[0m \u001b[38;5;28;01mreturn\u001b[39;00m \u001b[43m_nx\u001b[49m\u001b[38;5;241;43m.\u001b[39;49m\u001b[43mconcatenate\u001b[49m\u001b[43m(\u001b[49m\u001b[43marrays\u001b[49m\u001b[43m,\u001b[49m\u001b[43m \u001b[49m\u001b[38;5;241;43m1\u001b[39;49m\u001b[43m)\u001b[49m\n",
      "\u001b[0;31mDTypePromotionError\u001b[0m: The DType <class 'numpy.dtypes.TimeDelta64DType'> could not be promoted by <class 'numpy.dtypes.Float64DType'>. This means that no common DType exists for the given inputs. For example they cannot be stored in a single array unless the dtype is `object`. The full list of DTypes is: (<class 'numpy.dtypes.TimeDelta64DType'>, <class 'numpy.dtypes.Float64DType'>)"
     ]
    },
    {
     "data": {
      "image/png": "[encoded data removed]",
      "text/plain": [
       "<Figure size 640x480 with 1 Axes>"
      ]
     },
     "metadata": {},
     "output_type": "display_data"
    }
   ],
   "source": [
    "plt.scatter(np.array(f.time, dtype='timedelta64[ms]')[:10], f.pot[:10])\n",
    "plt.show()"
   ]
  }
 ],
 "metadata": {
  "kernelspec": {
   "display_name": "Python 3",
   "language": "python",
   "name": "python3"
  },
  "language_info": {
   "codemirror_mode": {
    "name": "ipython",
    "version": 3
   },
   "file_extension": ".py",
   "mimetype": "text/x-python",
   "name": "python",
   "nbconvert_exporter": "python",
   "pygments_lexer": "ipython3",
   "version": "3.12.2"
  }
 },
 "nbformat": 4,
 "nbformat_minor": 2
}
