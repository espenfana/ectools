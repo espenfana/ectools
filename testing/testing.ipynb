{
 "cells": [
  {
   "cell_type": "code",
   "execution_count": 1,
   "metadata": {},
   "outputs": [],
   "source": [
    "import numpy as np\n",
    "import pandas as pd\n",
    "from matplotlib import pyplot as plt\n",
    "import os\n",
    "\n",
    "import ectools as ec\n"
   ]
  },
  {
   "cell_type": "code",
   "execution_count": null,
   "metadata": {},
   "outputs": [],
   "source": []
  },
  {
   "cell_type": "code",
   "execution_count": 2,
   "metadata": {},
   "outputs": [],
   "source": [
    "current_path = os.getcwd()\n",
    "data_path  = current_path + \"\\\\data\\\\\"\n",
    "\n",
    "data_files = os.listdir(data_path)"
   ]
  },
  {
   "cell_type": "code",
   "execution_count": 3,
   "metadata": {},
   "outputs": [
    {
     "name": "stdout",
     "output_type": "stream",
     "text": [
      "['-F- c:\\\\code\\\\py\\\\pkg\\\\ectools\\\\testing\\\\data\\\\240902_01b_MCL13_cswWE_CV20_initial_test.DTA', 'Format is Gamry']\n",
      "['-F- c:\\\\code\\\\py\\\\pkg\\\\ectools\\\\testing\\\\data\\\\240902_01c_MCL13_cswWE_CV20_initial_test.DTA', 'Format is Gamry']\n",
      "['-F- c:\\\\code\\\\py\\\\pkg\\\\ectools\\\\testing\\\\data\\\\240902_01d_MCL13_cswWE_CV20_initial_test.DTA', 'Format is Gamry']\n",
      "['-F- c:\\\\code\\\\py\\\\pkg\\\\ectools\\\\testing\\\\data\\\\240902_01_MCL13_cswWE_CV20_initial_test.DTA', 'Format is Gamry']\n",
      "['-F- c:\\\\code\\\\py\\\\pkg\\\\ectools\\\\testing\\\\data\\\\240902_03a_OCP.DTA', 'Format is Gamry']\n",
      "['-F- c:\\\\code\\\\py\\\\pkg\\\\ectools\\\\testing\\\\data\\\\240902_03_MCL13_cswWE_CV2_750C_CO2.DTA', 'Format is Gamry']\n",
      "['-F- c:\\\\code\\\\py\\\\pkg\\\\ectools\\\\testing\\\\data\\\\240902_04a_OCP.DTA', 'Format is Gamry']\n",
      "['-F- c:\\\\code\\\\py\\\\pkg\\\\ectools\\\\testing\\\\data\\\\240902_04_MCL13_cswWE_CV2_750C_CO2.DTA', 'Format is Gamry']\n",
      "['-F- c:\\\\code\\\\py\\\\pkg\\\\ectools\\\\testing\\\\data\\\\240902_05a_OCP.DTA', 'Format is Gamry']\n",
      "['-F- c:\\\\code\\\\py\\\\pkg\\\\ectools\\\\testing\\\\data\\\\240902_05_MCL13_cswWE_CV2_750C_CO2.DTA', 'Format is Gamry']\n",
      "['-F- c:\\\\code\\\\py\\\\pkg\\\\ectools\\\\testing\\\\data\\\\240902_06a_OCP.DTA', 'Format is Gamry']\n",
      "['-F- c:\\\\code\\\\py\\\\pkg\\\\ectools\\\\testing\\\\data\\\\240902_06_MCL13_cswWE_CV2_750C_CO2.DTA', 'Format is Gamry']\n",
      "['-F- c:\\\\code\\\\py\\\\pkg\\\\ectools\\\\testing\\\\data\\\\240902_07a_OCP.DTA', 'Format is Gamry']\n",
      "['-F- c:\\\\code\\\\py\\\\pkg\\\\ectools\\\\testing\\\\data\\\\240902_07_MCL13_cswWE_CV2_750C_CO2.DTA', 'Format is Gamry']\n",
      "['-F- c:\\\\code\\\\py\\\\pkg\\\\ectools\\\\testing\\\\data\\\\240902_08a_OCP.DTA', 'Format is Gamry']\n",
      "['-F- c:\\\\code\\\\py\\\\pkg\\\\ectools\\\\testing\\\\data\\\\240902_08_MCL13_cswWE_CV2_750C_CO2.DTA', 'Format is Gamry']\n",
      "['-F- c:\\\\code\\\\py\\\\pkg\\\\ectools\\\\testing\\\\data\\\\240902_09a_OCP.DTA', 'Format is Gamry']\n",
      "['-F- c:\\\\code\\\\py\\\\pkg\\\\ectools\\\\testing\\\\data\\\\240902_09_MCL13_cswWE_CV2_750C_CO2.DTA', 'Format is Gamry']\n",
      "['-F- c:\\\\code\\\\py\\\\pkg\\\\ectools\\\\testing\\\\data\\\\240902_10a_OCP.DTA', 'Format is Gamry']\n",
      "['-F- c:\\\\code\\\\py\\\\pkg\\\\ectools\\\\testing\\\\data\\\\240902_10_MCL13_cswWE_CV2_750C_CO2.DTA', 'Format is Gamry']\n",
      "['-F- c:\\\\code\\\\py\\\\pkg\\\\ectools\\\\testing\\\\data\\\\240902_11a_OCP.DTA', 'Format is Gamry']\n",
      "['-F- c:\\\\code\\\\py\\\\pkg\\\\ectools\\\\testing\\\\data\\\\240902_11_MCL13_cswWE_CV2_750C_CO2.DTA', 'Format is Gamry']\n",
      "['-F- c:\\\\code\\\\py\\\\pkg\\\\ectools\\\\testing\\\\data\\\\240902_12a_OCP.DTA', 'Format is Gamry']\n",
      "['-F- c:\\\\code\\\\py\\\\pkg\\\\ectools\\\\testing\\\\data\\\\240902_12_MCL13_cswWE_CV2_750C_CO2.DTA', 'Format is Gamry']\n",
      "['-F- c:\\\\code\\\\py\\\\pkg\\\\ectools\\\\testing\\\\data\\\\240902_13a_OCP.DTA', 'Format is Gamry']\n",
      "['-F- c:\\\\code\\\\py\\\\pkg\\\\ectools\\\\testing\\\\data\\\\240902_13_MCL13_cswWE_CV1_750C_CO2.DTA', 'Format is Gamry']\n",
      "['-F- c:\\\\code\\\\py\\\\pkg\\\\ectools\\\\testing\\\\data\\\\240902_14a_OCP.DTA', 'Format is Gamry']\n",
      "['-F- c:\\\\code\\\\py\\\\pkg\\\\ectools\\\\testing\\\\data\\\\240902_14_MCL13_cswWE_CV1_750C_CO2.DTA', 'Format is Gamry']\n",
      "['-F- c:\\\\code\\\\py\\\\pkg\\\\ectools\\\\testing\\\\data\\\\240902_15a_OCP.DTA', 'Format is Gamry']\n",
      "['-F- c:\\\\code\\\\py\\\\pkg\\\\ectools\\\\testing\\\\data\\\\240902_15_MCL13_cswWE_CV2_750C_CO2_post.DTA', 'Format is Gamry']\n",
      "['-F- c:\\\\code\\\\py\\\\pkg\\\\ectools\\\\testing\\\\data\\\\240902_16a_OCP.DTA', 'Format is Gamry']\n",
      "['-F- c:\\\\code\\\\py\\\\pkg\\\\ectools\\\\testing\\\\data\\\\240902_16_MCL13_cswWE_CV10_750C_CO2.DTA', 'Format is Gamry']\n",
      "['-F- c:\\\\code\\\\py\\\\pkg\\\\ectools\\\\testing\\\\data\\\\240902_17a_OCP.DTA', 'Format is Gamry']\n",
      "['-F- c:\\\\code\\\\py\\\\pkg\\\\ectools\\\\testing\\\\data\\\\240902_17_MCL13_cswWE_CV20_750C_CO2.DTA', 'Format is Gamry']\n",
      "['-F- c:\\\\code\\\\py\\\\pkg\\\\ectools\\\\testing\\\\data\\\\240902_18a_OCP.DTA', 'Format is Gamry']\n",
      "['-F- c:\\\\code\\\\py\\\\pkg\\\\ectools\\\\testing\\\\data\\\\240902_18_MCL13_cswWE_CV50_750C_CO2.DTA', 'Format is Gamry']\n",
      "['-F- c:\\\\code\\\\py\\\\pkg\\\\ectools\\\\testing\\\\data\\\\240902_19a_OCP.DTA', 'Format is Gamry']\n",
      "['-F- c:\\\\code\\\\py\\\\pkg\\\\ectools\\\\testing\\\\data\\\\240902_19_MCL13_cspWE_CV2_750C_CO2.DTA', 'Format is Gamry']\n",
      "['-F- c:\\\\code\\\\py\\\\pkg\\\\ectools\\\\testing\\\\data\\\\240902_20a_OCP.DTA', 'Format is Gamry']\n",
      "['-F- c:\\\\code\\\\py\\\\pkg\\\\ectools\\\\testing\\\\data\\\\240902_20_MCL13_cspWE_CV2_750C_CO2.DTA', 'Format is Gamry']\n",
      "['-F- c:\\\\code\\\\py\\\\pkg\\\\ectools\\\\testing\\\\data\\\\240902_21a_OCP.DTA', 'Format is Gamry']\n",
      "['-F- c:\\\\code\\\\py\\\\pkg\\\\ectools\\\\testing\\\\data\\\\240902_21_MCL13_cspWE_CV2_750C_CO2.DTA', 'Format is Gamry']\n",
      "['-F- c:\\\\code\\\\py\\\\pkg\\\\ectools\\\\testing\\\\data\\\\240902_22a_OCP.DTA', 'Format is Gamry']\n",
      "['-F- c:\\\\code\\\\py\\\\pkg\\\\ectools\\\\testing\\\\data\\\\240902_22_MCL13_cspWE_CV1_750C_CO2.DTA', 'Format is Gamry']\n",
      "['-F- c:\\\\code\\\\py\\\\pkg\\\\ectools\\\\testing\\\\data\\\\240902_23a_OCP.DTA', 'Format is Gamry']\n",
      "['-F- c:\\\\code\\\\py\\\\pkg\\\\ectools\\\\testing\\\\data\\\\240902_23_MCL13_cspWE_CV1_750C_CO2.DTA', 'Format is Gamry']\n",
      "['-F- c:\\\\code\\\\py\\\\pkg\\\\ectools\\\\testing\\\\data\\\\240902_24a_OCP.DTA', 'Format is Gamry']\n",
      "['-F- c:\\\\code\\\\py\\\\pkg\\\\ectools\\\\testing\\\\data\\\\240902_24_MCL13_cspWE_CV2_750C_CO2.DTA', 'Format is Gamry']\n",
      "['-F- c:\\\\code\\\\py\\\\pkg\\\\ectools\\\\testing\\\\data\\\\240902_GALVEIS.DTA', 'Format is Gamry']\n",
      "Processed 49 files, parsed 0\n",
      "ecList with 0 items\n"
     ]
    }
   ],
   "source": [
    "imp = ec.ecImporter()\n",
    "f = imp.load_folder(data_path)\n",
    "\n",
    "print(f)"
   ]
  },
  {
   "cell_type": "code",
   "execution_count": 4,
   "metadata": {},
   "outputs": [
    {
     "ename": "AttributeError",
     "evalue": "'ecList' object has no attribute 'log'",
     "output_type": "error",
     "traceback": [
      "\u001b[1;31m---------------------------------------------------------------------------\u001b[0m",
      "\u001b[1;31mAttributeError\u001b[0m                            Traceback (most recent call last)",
      "Cell \u001b[1;32mIn[4], line 1\u001b[0m\n\u001b[1;32m----> 1\u001b[0m \u001b[38;5;28mprint\u001b[39m(f\u001b[38;5;241m.\u001b[39mlog)\n",
      "\u001b[1;31mAttributeError\u001b[0m: 'ecList' object has no attribute 'log'"
     ]
    }
   ],
   "source": [
    "print(f.log)"
   ]
  },
  {
   "cell_type": "code",
   "execution_count": null,
   "metadata": {},
   "outputs": [],
   "source": []
  }
 ],
 "metadata": {
  "kernelspec": {
   "display_name": "Python 3",
   "language": "python",
   "name": "python3"
  },
  "language_info": {
   "codemirror_mode": {
    "name": "ipython",
    "version": 3
   },
   "file_extension": ".py",
   "mimetype": "text/x-python",
   "name": "python",
   "nbconvert_exporter": "python",
   "pygments_lexer": "ipython3",
   "version": "3.12.4"
  }
 },
 "nbformat": 4,
 "nbformat_minor": 2
}
