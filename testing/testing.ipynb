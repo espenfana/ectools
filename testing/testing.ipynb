{
 "cells": [
  {
   "cell_type": "markdown",
   "metadata": {},
   "source": [
    "# Live testing"
   ]
  },
  {
   "cell_type": "code",
   "execution_count": 1,
   "metadata": {},
   "outputs": [],
   "source": [
    "import numpy as np\n",
    "import pandas as pd\n",
    "from matplotlib import pyplot as plt\n",
    "import os\n",
    "from datetime import datetime, timedelta\n",
    "\n",
    "import ectools as ec\n",
    "\n",
    "script_dir = os.path.dirname(os.path.abspath('testing'))\n",
    "FPATH = os.path.normpath(os.path.join(script_dir, 'data/'))\n",
    "FNAME = '241007_01_MCL21_cswWE1_CV2_CO2_750C.DTA'\n",
    "\n",
    "imp = ec.EcImporter()\n",
    "f = imp.load_file(FPATH, FNAME)"
   ]
  },
  {
   "cell_type": "code",
   "execution_count": 2,
   "metadata": {},
   "outputs": [
    {
     "name": "stdout",
     "output_type": "stream",
     "text": [
      "ectools.parse_file_gamry error:\n",
      "'utf-8' codec can't decode byte 0xb0 in position 7033: invalid start byte\n",
      "Processed 53 files, parsed 52\n"
     ]
    }
   ],
   "source": [
    "fl = imp.load_folder(FPATH)"
   ]
  },
  {
   "cell_type": "code",
   "execution_count": 3,
   "metadata": {},
   "outputs": [
    {
     "data": {
      "text/plain": [
       "2578"
      ]
     },
     "execution_count": 3,
     "metadata": {},
     "output_type": "execute_result"
    }
   ],
   "source": [
    "f = fl[2]\n",
    "\n",
    "f.curr.size\n",
    "\n",
    "f.ge"
   ]
  },
  {
   "cell_type": "code",
   "execution_count": 4,
   "metadata": {},
   "outputs": [],
   "source": [
    "a = np.array(f.time, dtype=timedelta)[10]"
   ]
  },
  {
   "cell_type": "code",
   "execution_count": 8,
   "metadata": {},
   "outputs": [
    {
     "name": "stdout",
     "output_type": "stream",
     "text": [
      "<class 'int'>\n",
      "3\n"
     ]
    }
   ],
   "source": [
    "from typing import List\n",
    "lst = [1, '2', 3, 4, 5, 6, 7, 8, 9, 10] # type: List[str]\n",
    "\n",
    "a = lst[3]\n",
    "print(type(a))\n",
    "\n",
    "b = lst.__getitem__(2)\n",
    "print(b)"
   ]
  },
  {
   "cell_type": "code",
   "execution_count": 1,
   "metadata": {},
   "outputs": [
    {
     "data": {
      "text/html": [
       "    <style>\n",
       "        .bk-notebook-logo {\n",
       "            display: block;\n",
       "            width: 20px;\n",
       "            height: 20px;\n",
       "            background-image: url(data:image/png;base64,iVBORw0KGgoAAAANSUhEUgAAABQAAAAUCAYAAACNiR0NAAAABHNCSVQICAgIfAhkiAAAAAlwSFlzAAALEgAACxIB0t1+/AAAABx0RVh0U29mdHdhcmUAQWRvYmUgRmlyZXdvcmtzIENTNui8sowAAAOkSURBVDiNjZRtaJVlGMd/1/08zzln5zjP1LWcU9N0NkN8m2CYjpgQYQXqSs0I84OLIC0hkEKoPtiH3gmKoiJDU7QpLgoLjLIQCpEsNJ1vqUOdO7ppbuec5+V+rj4ctwzd8IIbbi6u+8f1539dt3A78eXC7QizUF7gyV1fD1Yqg4JWz84yffhm0qkFqBogB9rM8tZdtwVsPUhWhGcFJngGeWrPzHm5oaMmkfEg1usvLFyc8jLRqDOMru7AyC8saQr7GG7f5fvDeH7Ej8CM66nIF+8yngt6HWaKh7k49Soy9nXurCi1o3qUbS3zWfrYeQDTB/Qj6kX6Ybhw4B+bOYoLKCC9H3Nu/leUTZ1JdRWkkn2ldcCamzrcf47KKXdAJllSlxAOkRgyHsGC/zRday5Qld9DyoM4/q/rUoy/CXh3jzOu3bHUVZeU+DEn8FInkPBFlu3+nW3Nw0mk6vCDiWg8CeJaxEwuHS3+z5RgY+YBR6V1Z1nxSOfoaPa4LASWxxdNp+VWTk7+4vzaou8v8PN+xo+KY2xsw6une2frhw05CTYOmQvsEhjhWjn0bmXPjpE1+kplmmkP3suftwTubK9Vq22qKmrBhpY4jvd5afdRA3wGjFAgcnTK2s4hY0/GPNIb0nErGMCRxWOOX64Z8RAC4oCXdklmEvcL8o0BfkNK4lUg9HTl+oPlQxdNo3Mg4Nv175e/1LDGzZen30MEjRUtmXSfiTVu1kK8W4txyV6BMKlbgk3lMwYCiusNy9fVfvvwMxv8Ynl6vxoByANLTWplvuj/nF9m2+PDtt1eiHPBr1oIfhCChQMBw6Aw0UulqTKZdfVvfG7VcfIqLG9bcldL/+pdWTLxLUy8Qq38heUIjh4XlzZxzQm19lLFlr8vdQ97rjZVOLf8nclzckbcD4wxXMidpX30sFd37Fv/GtwwhzhxGVAprjbg0gCAEeIgwCZyTV2Z1REEW8O4py0wsjeloKoMr6iCY6dP92H6Vw/oTyICIthibxjm/DfN9lVz8IqtqKYLUXfoKVMVQVVJOElGjrnnUt9T9wbgp8AyYKaGlqingHZU/uG2NTZSVqwHQTWkx9hxjkpWDaCg6Ckj5qebgBVbT3V3NNXMSiWSDdGV3hrtzla7J+duwPOToIg42ChPQOQjspnSlp1V+Gjdged7+8UN5CRAV7a5EdFNwCjEaBR27b3W890TE7g24NAP/mMDXRWrGoFPQI9ls/MWO2dWFAar/xcOIImbbpA3zgAAAABJRU5ErkJggg==);\n",
       "        }\n",
       "    </style>\n",
       "    <div>\n",
       "        <a href=\"https://bokeh.org\" target=\"_blank\" class=\"bk-notebook-logo\"></a>\n",
       "        <span id=\"dbe381cf-0c0f-4c84-b39f-5f6e1c6fe04e\">Loading BokehJS ...</span>\n",
       "    </div>\n"
      ]
     },
     "metadata": {},
     "output_type": "display_data"
    },
    {
     "data": {
      "application/javascript": "'use strict';\n(function(root) {\n  function now() {\n    return new Date();\n  }\n\n  const force = true;\n\n  if (typeof root._bokeh_onload_callbacks === \"undefined\" || force === true) {\n    root._bokeh_onload_callbacks = [];\n    root._bokeh_is_loading = undefined;\n  }\n\nconst JS_MIME_TYPE = 'application/javascript';\n  const HTML_MIME_TYPE = 'text/html';\n  const EXEC_MIME_TYPE = 'application/vnd.bokehjs_exec.v0+json';\n  const CLASS_NAME = 'output_bokeh rendered_html';\n\n  /**\n   * Render data to the DOM node\n   */\n  function render(props, node) {\n    const script = document.createElement(\"script\");\n    node.appendChild(script);\n  }\n\n  /**\n   * Handle when an output is cleared or removed\n   */\n  function handleClearOutput(event, handle) {\n    function drop(id) {\n      const view = Bokeh.index.get_by_id(id)\n      if (view != null) {\n        view.model.document.clear()\n        Bokeh.index.delete(view)\n      }\n    }\n\n    const cell = handle.cell;\n\n    const id = cell.output_area._bokeh_element_id;\n    const server_id = cell.output_area._bokeh_server_id;\n\n    // Clean up Bokeh references\n    if (id != null) {\n      drop(id)\n    }\n\n    if (server_id !== undefined) {\n      // Clean up Bokeh references\n      const cmd_clean = \"from bokeh.io.state import curstate; print(curstate().uuid_to_server['\" + server_id + \"'].get_sessions()[0].document.roots[0]._id)\";\n      cell.notebook.kernel.execute(cmd_clean, {\n        iopub: {\n          output: function(msg) {\n            const id = msg.content.text.trim()\n            drop(id)\n          }\n        }\n      });\n      // Destroy server and session\n      const cmd_destroy = \"import bokeh.io.notebook as ion; ion.destroy_server('\" + server_id + \"')\";\n      cell.notebook.kernel.execute(cmd_destroy);\n    }\n  }\n\n  /**\n   * Handle when a new output is added\n   */\n  function handleAddOutput(event, handle) {\n    const output_area = handle.output_area;\n    const output = handle.output;\n\n    // limit handleAddOutput to display_data with EXEC_MIME_TYPE content only\n    if ((output.output_type != \"display_data\") || (!Object.prototype.hasOwnProperty.call(output.data, EXEC_MIME_TYPE))) {\n      return\n    }\n\n    const toinsert = output_area.element.find(\".\" + CLASS_NAME.split(' ')[0]);\n\n    if (output.metadata[EXEC_MIME_TYPE][\"id\"] !== undefined) {\n      toinsert[toinsert.length - 1].firstChild.textContent = output.data[JS_MIME_TYPE];\n      // store reference to embed id on output_area\n      output_area._bokeh_element_id = output.metadata[EXEC_MIME_TYPE][\"id\"];\n    }\n    if (output.metadata[EXEC_MIME_TYPE][\"server_id\"] !== undefined) {\n      const bk_div = document.createElement(\"div\");\n      bk_div.innerHTML = output.data[HTML_MIME_TYPE];\n      const script_attrs = bk_div.children[0].attributes;\n      for (let i = 0; i < script_attrs.length; i++) {\n        toinsert[toinsert.length - 1].firstChild.setAttribute(script_attrs[i].name, script_attrs[i].value);\n        toinsert[toinsert.length - 1].firstChild.textContent = bk_div.children[0].textContent\n      }\n      // store reference to server id on output_area\n      output_area._bokeh_server_id = output.metadata[EXEC_MIME_TYPE][\"server_id\"];\n    }\n  }\n\n  function register_renderer(events, OutputArea) {\n\n    function append_mime(data, metadata, element) {\n      // create a DOM node to render to\n      const toinsert = this.create_output_subarea(\n        metadata,\n        CLASS_NAME,\n        EXEC_MIME_TYPE\n      );\n      this.keyboard_manager.register_events(toinsert);\n      // Render to node\n      const props = {data: data, metadata: metadata[EXEC_MIME_TYPE]};\n      render(props, toinsert[toinsert.length - 1]);\n      element.append(toinsert);\n      return toinsert\n    }\n\n    /* Handle when an output is cleared or removed */\n    events.on('clear_output.CodeCell', handleClearOutput);\n    events.on('delete.Cell', handleClearOutput);\n\n    /* Handle when a new output is added */\n    events.on('output_added.OutputArea', handleAddOutput);\n\n    /**\n     * Register the mime type and append_mime function with output_area\n     */\n    OutputArea.prototype.register_mime_type(EXEC_MIME_TYPE, append_mime, {\n      /* Is output safe? */\n      safe: true,\n      /* Index of renderer in `output_area.display_order` */\n      index: 0\n    });\n  }\n\n  // register the mime type if in Jupyter Notebook environment and previously unregistered\n  if (root.Jupyter !== undefined) {\n    const events = require('base/js/events');\n    const OutputArea = require('notebook/js/outputarea').OutputArea;\n\n    if (OutputArea.prototype.mime_types().indexOf(EXEC_MIME_TYPE) == -1) {\n      register_renderer(events, OutputArea);\n    }\n  }\n  if (typeof (root._bokeh_timeout) === \"undefined\" || force === true) {\n    root._bokeh_timeout = Date.now() + 5000;\n    root._bokeh_failed_load = false;\n  }\n\n  const NB_LOAD_WARNING = {'data': {'text/html':\n     \"<div style='background-color: #fdd'>\\n\"+\n     \"<p>\\n\"+\n     \"BokehJS does not appear to have successfully loaded. If loading BokehJS from CDN, this \\n\"+\n     \"may be due to a slow or bad network connection. Possible fixes:\\n\"+\n     \"</p>\\n\"+\n     \"<ul>\\n\"+\n     \"<li>re-rerun `output_notebook()` to attempt to load from CDN again, or</li>\\n\"+\n     \"<li>use INLINE resources instead, as so:</li>\\n\"+\n     \"</ul>\\n\"+\n     \"<code>\\n\"+\n     \"from bokeh.resources import INLINE\\n\"+\n     \"output_notebook(resources=INLINE)\\n\"+\n     \"</code>\\n\"+\n     \"</div>\"}};\n\n  function display_loaded(error = null) {\n    const el = document.getElementById(\"dbe381cf-0c0f-4c84-b39f-5f6e1c6fe04e\");\n    if (el != null) {\n      const html = (() => {\n        if (typeof root.Bokeh === \"undefined\") {\n          if (error == null) {\n            return \"BokehJS is loading ...\";\n          } else {\n            return \"BokehJS failed to load.\";\n          }\n        } else {\n          const prefix = `BokehJS ${root.Bokeh.version}`;\n          if (error == null) {\n            return `${prefix} successfully loaded.`;\n          } else {\n            return `${prefix} <b>encountered errors</b> while loading and may not function as expected.`;\n          }\n        }\n      })();\n      el.innerHTML = html;\n\n      if (error != null) {\n        const wrapper = document.createElement(\"div\");\n        wrapper.style.overflow = \"auto\";\n        wrapper.style.height = \"5em\";\n        wrapper.style.resize = \"vertical\";\n        const content = document.createElement(\"div\");\n        content.style.fontFamily = \"monospace\";\n        content.style.whiteSpace = \"pre-wrap\";\n        content.style.backgroundColor = \"rgb(255, 221, 221)\";\n        content.textContent = error.stack ?? error.toString();\n        wrapper.append(content);\n        el.append(wrapper);\n      }\n    } else if (Date.now() < root._bokeh_timeout) {\n      setTimeout(() => display_loaded(error), 100);\n    }\n  }\n\n  function run_callbacks() {\n    try {\n      root._bokeh_onload_callbacks.forEach(function(callback) {\n        if (callback != null)\n          callback();\n      });\n    } finally {\n      delete root._bokeh_onload_callbacks\n    }\n    console.debug(\"Bokeh: all callbacks have finished\");\n  }\n\n  function load_libs(css_urls, js_urls, callback) {\n    if (css_urls == null) css_urls = [];\n    if (js_urls == null) js_urls = [];\n\n    root._bokeh_onload_callbacks.push(callback);\n    if (root._bokeh_is_loading > 0) {\n      console.debug(\"Bokeh: BokehJS is being loaded, scheduling callback at\", now());\n      return null;\n    }\n    if (js_urls == null || js_urls.length === 0) {\n      run_callbacks();\n      return null;\n    }\n    console.debug(\"Bokeh: BokehJS not loaded, scheduling load and callback at\", now());\n    root._bokeh_is_loading = css_urls.length + js_urls.length;\n\n    function on_load() {\n      root._bokeh_is_loading--;\n      if (root._bokeh_is_loading === 0) {\n        console.debug(\"Bokeh: all BokehJS libraries/stylesheets loaded\");\n        run_callbacks()\n      }\n    }\n\n    function on_error(url) {\n      console.error(\"failed to load \" + url);\n    }\n\n    for (let i = 0; i < css_urls.length; i++) {\n      const url = css_urls[i];\n      const element = document.createElement(\"link\");\n      element.onload = on_load;\n      element.onerror = on_error.bind(null, url);\n      element.rel = \"stylesheet\";\n      element.type = \"text/css\";\n      element.href = url;\n      console.debug(\"Bokeh: injecting link tag for BokehJS stylesheet: \", url);\n      document.body.appendChild(element);\n    }\n\n    for (let i = 0; i < js_urls.length; i++) {\n      const url = js_urls[i];\n      const element = document.createElement('script');\n      element.onload = on_load;\n      element.onerror = on_error.bind(null, url);\n      element.async = false;\n      element.src = url;\n      console.debug(\"Bokeh: injecting script tag for BokehJS library: \", url);\n      document.head.appendChild(element);\n    }\n  };\n\n  function inject_raw_css(css) {\n    const element = document.createElement(\"style\");\n    element.appendChild(document.createTextNode(css));\n    document.body.appendChild(element);\n  }\n\n  const js_urls = [\"https://cdn.bokeh.org/bokeh/release/bokeh-3.4.1.min.js\", \"https://cdn.bokeh.org/bokeh/release/bokeh-gl-3.4.1.min.js\", \"https://cdn.bokeh.org/bokeh/release/bokeh-widgets-3.4.1.min.js\", \"https://cdn.bokeh.org/bokeh/release/bokeh-tables-3.4.1.min.js\", \"https://cdn.bokeh.org/bokeh/release/bokeh-mathjax-3.4.1.min.js\"];\n  const css_urls = [];\n\n  const inline_js = [    function(Bokeh) {\n      Bokeh.set_log_level(\"info\");\n    },\nfunction(Bokeh) {\n    }\n  ];\n\n  function run_inline_js() {\n    if (root.Bokeh !== undefined || force === true) {\n      try {\n            for (let i = 0; i < inline_js.length; i++) {\n      inline_js[i].call(root, root.Bokeh);\n    }\n\n      } catch (error) {display_loaded(error);throw error;\n      }if (force === true) {\n        display_loaded();\n      }} else if (Date.now() < root._bokeh_timeout) {\n      setTimeout(run_inline_js, 100);\n    } else if (!root._bokeh_failed_load) {\n      console.log(\"Bokeh: BokehJS failed to load within specified timeout.\");\n      root._bokeh_failed_load = true;\n    } else if (force !== true) {\n      const cell = $(document.getElementById(\"dbe381cf-0c0f-4c84-b39f-5f6e1c6fe04e\")).parents('.cell').data().cell;\n      cell.output_area.append_execute_result(NB_LOAD_WARNING)\n    }\n  }\n\n  if (root._bokeh_is_loading === 0) {\n    console.debug(\"Bokeh: BokehJS loaded, going straight to plotting\");\n    run_inline_js();\n  } else {\n    load_libs(css_urls, js_urls, function() {\n      console.debug(\"Bokeh: BokehJS plotting callback run at\", now());\n      run_inline_js();\n    });\n  }\n}(window));",
      "application/vnd.bokehjs_load.v0+json": ""
     },
     "metadata": {},
     "output_type": "display_data"
    },
    {
     "ename": "NameError",
     "evalue": "name 'f' is not defined",
     "output_type": "error",
     "traceback": [
      "\u001b[1;31m---------------------------------------------------------------------------\u001b[0m",
      "\u001b[1;31mNameError\u001b[0m                                 Traceback (most recent call last)",
      "Cell \u001b[1;32mIn[1], line 11\u001b[0m\n\u001b[0;32m      8\u001b[0m output_notebook()\n\u001b[0;32m     10\u001b[0m \u001b[38;5;66;03m# Initialize data sources\u001b[39;00m\n\u001b[1;32m---> 11\u001b[0m source \u001b[38;5;241m=\u001b[39m ColumnDataSource(f\u001b[38;5;241m.\u001b[39mget_data_dict())\n\u001b[0;32m     12\u001b[0m selected_area_source \u001b[38;5;241m=\u001b[39m ColumnDataSource(data\u001b[38;5;241m=\u001b[39m\u001b[38;5;28mdict\u001b[39m(xs\u001b[38;5;241m=\u001b[39m[], ys\u001b[38;5;241m=\u001b[39m[], color\u001b[38;5;241m=\u001b[39m[]))\n\u001b[0;32m     13\u001b[0m current_selection_source \u001b[38;5;241m=\u001b[39m ColumnDataSource(data\u001b[38;5;241m=\u001b[39m\u001b[38;5;28mdict\u001b[39m(x\u001b[38;5;241m=\u001b[39m[], y\u001b[38;5;241m=\u001b[39m[]))\n",
      "\u001b[1;31mNameError\u001b[0m: name 'f' is not defined"
     ]
    }
   ],
   "source": [
    "# File select\n",
    "\n",
    "# Integration tool v 1.0\n",
    "from bokeh.models import ColumnDataSource, CustomJS, BoxSelectTool, Div, Button, DataTable, TableColumn\n",
    "from bokeh.plotting import figure, show\n",
    "from bokeh.layouts import column, row\n",
    "from bokeh.io import output_notebook\n",
    "from bokeh.palettes import Category10\n",
    "\n",
    "output_notebook()\n",
    "\n",
    "# Initialize data sources\n",
    "source = ColumnDataSource(f.get_data_dict())\n",
    "selected_area_source = ColumnDataSource(data=dict(xs=[], ys=[], color=[]))\n",
    "current_selection_source = ColumnDataSource(data=dict(x=[], y=[]))\n",
    "integration_results_source = ColumnDataSource(data=dict(area=[]))\n",
    "\n",
    "# Create plot\n",
    "plot = figure(x_axis_label='Time', y_axis_label='Current', title=\"Select Integration Range\")\n",
    "l = plot.line('time', 'curr', source=source, line_width=2, color=\"navy\")\n",
    "r = plot.scatter('time', 'curr', source=source, size=1, color=\"navy\", alpha=0)\n",
    "\n",
    "# Add tools\n",
    "hover = f.get_hover_tool()\n",
    "hover.renderers = [l]\n",
    "box_select = BoxSelectTool(renderers=[r], dimensions='width')\n",
    "box_select.continuous = True\n",
    "plot.add_tools(box_select, hover)\n",
    "plot.toolbar.active_drag = box_select\n",
    "\n",
    "# Add patch glyphs\n",
    "plot.patches('xs', 'ys', source=selected_area_source, color='color', alpha=0.5)\n",
    "plot.patch('x', 'y', source=current_selection_source, color='green', alpha=0.5)\n",
    "\n",
    "# Create a Div to display integration results\n",
    "result_div = Div(text=\"\")\n",
    "\n",
    "# Create a button to add the integral result\n",
    "add_button = Button(label=\"Add Integral\", button_type=\"success\")\n",
    "\n",
    "# Create a table to display integration results\n",
    "columns = [TableColumn(field=\"area\", title=\"Integrated Area\")]\n",
    "data_table = DataTable(source=integration_results_source, columns=columns, width=400, height=280)\n",
    "\n",
    "# JavaScript callback to perform integration and update the current selection patch\n",
    "callback = CustomJS(args=dict(source=source, current_selection_source=current_selection_source, result_div=result_div), code=\"\"\"\n",
    "    var data = source.data;\n",
    "    var selected = source.selected.indices;\n",
    "    var x = data['time'];\n",
    "    var y = data['curr'];\n",
    "\n",
    "    // Sort selected indices\n",
    "    selected.sort(function(a, b) { return x[a] - x[b]; });\n",
    "\n",
    "    // Extract selected data\n",
    "    var selected_x = [];\n",
    "    var selected_y = [];\n",
    "    for (var i = 0; i < selected.length; i++) {\n",
    "        selected_x.push(x[selected[i]]);\n",
    "        selected_y.push(y[selected[i]]);\n",
    "    }\n",
    "\n",
    "    // Add the first and last x values with y=0 to close the area\n",
    "    if (selected_x.length > 0) {\n",
    "        selected_x.unshift(selected_x[0]);\n",
    "        selected_y.unshift(0);\n",
    "        selected_x.push(selected_x[selected_x.length - 1]);\n",
    "        selected_y.push(0);\n",
    "    }\n",
    "\n",
    "    // Update the current selection source\n",
    "    current_selection_source.data = { x: selected_x, y: selected_y };\n",
    "    current_selection_source.change.emit();\n",
    "\n",
    "    // Calculate the area under the curve using the trapezoidal rule\n",
    "    var area = 0;\n",
    "    for (var i = 0; i < selected_x.length - 1; i++) {\n",
    "        area += (selected_x[i + 1] - selected_x[i]) * (selected_y[i] + selected_y[i + 1]) / 2;\n",
    "    }\n",
    "\n",
    "    // Update the result div to display the current integration result\n",
    "    result_div.text = \"Current Integrated Area: \" + area.toFixed(2);\n",
    "\"\"\")\n",
    "source.selected.js_on_change('indices', callback)\n",
    "\n",
    "# JavaScript callback to add the integral result to the table and save the patch\n",
    "add_callback = CustomJS(args=dict(current_selection_source=current_selection_source, selected_area_source=selected_area_source, result_div=result_div, integration_results_source=integration_results_source), code=\"\"\"\n",
    "    var area_text = result_div.text.split(\": \")[1];\n",
    "    var area = parseFloat(area_text);\n",
    "    var data = integration_results_source.data;\n",
    "    data['area'].push(area.toFixed(2));\n",
    "    integration_results_source.change.emit();\n",
    "\n",
    "    // Append the current selection to the existing data\n",
    "    var existing_xs = selected_area_source.data['xs'];\n",
    "    var existing_ys = selected_area_source.data['ys'];\n",
    "    var existing_color = selected_area_source.data['color'];\n",
    "\n",
    "    var selected_x = current_selection_source.data['x'];\n",
    "    var selected_y = current_selection_source.data['y'];\n",
    "\n",
    "    // Generate a new color for the patch\n",
    "    var colors = ['#1f77b4', '#ff7f0e', '#2ca02c', '#d62728', '#9467bd', '#8c564b', '#e377c2', '#7f7f7f', '#bcbd22', '#17becf'];\n",
    "    var new_color = colors[existing_color.length % colors.length];\n",
    "\n",
    "    existing_xs.push(selected_x.slice());\n",
    "    existing_ys.push(selected_y.slice());\n",
    "    existing_color.push(new_color);\n",
    "\n",
    "    selected_area_source.data = { \n",
    "        xs: existing_xs, \n",
    "        ys: existing_ys,\n",
    "        color: existing_color\n",
    "    };\n",
    "    selected_area_source.change.emit();\n",
    "\n",
    "    // Clear the current selection\n",
    "    current_selection_source.data = { x: [], y: [] };\n",
    "    current_selection_source.change.emit();\n",
    "\"\"\")\n",
    "add_button.js_on_click(add_callback)\n",
    "\n",
    "# Display the plot, button, and table\n",
    "show(column(plot, result_div, add_button, data_table), notebook_handle=True)"
   ]
  },
  {
   "cell_type": "code",
   "execution_count": null,
   "metadata": {},
   "outputs": [],
   "source": [
    "import numpy as np\n",
    "import pandas as pd\n",
    "import holoviews as hv\n",
    "from holoviews import streams\n",
    "import panel as pn\n",
    "\n",
    "hv.extension('bokeh')\n",
    "pn.extension()\n",
    "\n",
    "# Simulate data (replace this with your real data)\n",
    "time = np.linspace(0, 10, 500)\n",
    "current = np.sin(time) + np.random.normal(0, 0.1, len(time))\n",
    "data = pd.DataFrame({'time': time, 'current': current})\n",
    "\n",
    "# Create Holoviews plot with BoxSelectTool enabled\n",
    "curve = hv.Curve((data['time'], data['current']), 'Time', 'Current').opts(\n",
    "    width=600, height=400, tools=['hover', 'box_select'], active_tools=['box_select']\n",
    ")\n",
    "\n",
    "# Stream for capturing BoxSelectTool selections\n",
    "box_stream = streams.Selection1D(source=curve)\n",
    "\n",
    "# DataFrame to hold the integration results\n",
    "integration_df = pd.DataFrame(columns=['Index', 'Area', 'Color'])\n",
    "\n",
    "# Panel components\n",
    "result_table = pn.widgets.DataFrame(integration_df, width=300, height=200)\n",
    "result_div = pn.pane.Markdown(\"### Select an area to integrate\", width=300)\n",
    "add_button = pn.widgets.Button(name=\"Add Integral\", button_type='success')\n",
    "\n",
    "# Colors for each selection\n",
    "colors = ['#1f77b4', '#ff7f0e', '#2ca02c', '#d62728', '#9467bd', '#8c564b', '#e377c2', '#7f7f7f', '#bcbd22', '#17becf']\n",
    "selected_color_idx = 0\n",
    "\n",
    "# Function to perform the integration on selection\n",
    "def integrate_selection(event):\n",
    "    global selected_color_idx\n",
    "    selected = box_stream.index  # Get the selected indices\n",
    "    if selected:\n",
    "        selected_data = data.iloc[selected]\n",
    "        area = np.trapz(selected_data['current'], selected_data['time'])\n",
    "        \n",
    "        # Update integration results table\n",
    "        new_entry = pd.DataFrame({\n",
    "            'Index': [len(integration_df) + 1],\n",
    "            'Area': [area],\n",
    "            'Color': [colors[selected_color_idx % len(colors)]]\n",
    "        })\n",
    "        integration_df.loc[len(integration_df)] = new_entry.iloc[0]\n",
    "        result_table.value = integration_df\n",
    "        \n",
    "        # Highlight the selected area on the plot\n",
    "        selected_patch = hv.Area((selected_data['time'], selected_data['current'])).opts(\n",
    "            fill_color=colors[selected_color_idx % len(colors)], fill_alpha=0.5\n",
    "        )\n",
    "        result_div.object = f\"Current Integrated Area: {area:.2f}\"\n",
    "        \n",
    "        # Increment color index for next selection\n",
    "        selected_color_idx += 1\n",
    "        \n",
    "        # Update plot\n",
    "        layout[1] = curve * selected_patch\n",
    "\n",
    "# Attach the callback to the button\n",
    "add_button.on_click(integrate_selection)\n",
    "\n",
    "# Create Panel layout\n",
    "layout = pn.Row(\n",
    "    pn.Column(result_div, add_button, result_table),\n",
    "    curve\n",
    ")\n",
    "\n",
    "# Display the Panel dashboard in Jupyter\n",
    "layout\n"
   ]
  }
 ],
 "metadata": {
  "kernelspec": {
   "display_name": "base",
   "language": "python",
   "name": "python3"
  },
  "language_info": {
   "codemirror_mode": {
    "name": "ipython",
    "version": 3
   },
   "file_extension": ".py",
   "mimetype": "text/x-python",
   "name": "python",
   "nbconvert_exporter": "python",
   "pygments_lexer": "ipython3",
   "version": "3.12.4"
  }
 },
 "nbformat": 4,
 "nbformat_minor": 2
}
