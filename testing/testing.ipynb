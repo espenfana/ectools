{
 "cells": [
  {
   "cell_type": "code",
   "execution_count": 30,
   "metadata": {},
   "outputs": [
    {
     "ename": "ModuleNotFoundError",
     "evalue": "No module named 'ectools'",
     "output_type": "error",
     "traceback": [
      "\u001b[0;31m---------------------------------------------------------------------------\u001b[0m",
      "\u001b[0;31mModuleNotFoundError\u001b[0m                       Traceback (most recent call last)",
      "Cell \u001b[0;32mIn[30], line 7\u001b[0m\n\u001b[1;32m      4\u001b[0m \u001b[38;5;28;01mimport\u001b[39;00m \u001b[38;5;21;01mos\u001b[39;00m\n\u001b[1;32m      5\u001b[0m \u001b[38;5;28;01mimport\u001b[39;00m \u001b[38;5;21;01mre\u001b[39;00m\n\u001b[0;32m----> 7\u001b[0m \u001b[38;5;28;01mimport\u001b[39;00m \u001b[38;5;21;01mectools\u001b[39;00m \u001b[38;5;28;01mas\u001b[39;00m \u001b[38;5;21;01mec\u001b[39;00m\n",
      "\u001b[0;31mModuleNotFoundError\u001b[0m: No module named 'ectools'"
     ]
    }
   ],
   "source": [
    "import numpy as np\n",
    "import pandas as pd\n",
    "from matplotlib import pyplot as plt\n",
    "import os\n",
    "import re\n",
    "\n",
    "import ectools as ec\n"
   ]
  },
  {
   "cell_type": "code",
   "execution_count": null,
   "metadata": {},
   "outputs": [],
   "source": []
  },
  {
   "cell_type": "code",
   "execution_count": 2,
   "metadata": {},
   "outputs": [],
   "source": [
    "current_path = os.getcwd()\n",
    "data_path  = current_path + \"\\\\data\\\\\"\n",
    "\n",
    "data_files = os.listdir(data_path)"
   ]
  },
  {
   "cell_type": "code",
   "execution_count": 3,
   "metadata": {},
   "outputs": [
    {
     "name": "stdout",
     "output_type": "stream",
     "text": [
      "['-F- c:\\\\code\\\\py\\\\pkg\\\\ectools\\\\testing\\\\data\\\\240902_01b_MCL13_cswWE_CV20_initial_test.DTA', 'Format is Gamry']\n",
      "['-F- c:\\\\code\\\\py\\\\pkg\\\\ectools\\\\testing\\\\data\\\\240902_01c_MCL13_cswWE_CV20_initial_test.DTA', 'Format is Gamry']\n",
      "['-F- c:\\\\code\\\\py\\\\pkg\\\\ectools\\\\testing\\\\data\\\\240902_01d_MCL13_cswWE_CV20_initial_test.DTA', 'Format is Gamry']\n",
      "['-F- c:\\\\code\\\\py\\\\pkg\\\\ectools\\\\testing\\\\data\\\\240902_01_MCL13_cswWE_CV20_initial_test.DTA', 'Format is Gamry']\n",
      "['-F- c:\\\\code\\\\py\\\\pkg\\\\ectools\\\\testing\\\\data\\\\240902_03a_OCP.DTA', 'Format is Gamry']\n",
      "['-F- c:\\\\code\\\\py\\\\pkg\\\\ectools\\\\testing\\\\data\\\\240902_03_MCL13_cswWE_CV2_750C_CO2.DTA', 'Format is Gamry']\n",
      "['-F- c:\\\\code\\\\py\\\\pkg\\\\ectools\\\\testing\\\\data\\\\240902_04a_OCP.DTA', 'Format is Gamry']\n",
      "['-F- c:\\\\code\\\\py\\\\pkg\\\\ectools\\\\testing\\\\data\\\\240902_04_MCL13_cswWE_CV2_750C_CO2.DTA', 'Format is Gamry']\n",
      "['-F- c:\\\\code\\\\py\\\\pkg\\\\ectools\\\\testing\\\\data\\\\240902_05a_OCP.DTA', 'Format is Gamry']\n",
      "['-F- c:\\\\code\\\\py\\\\pkg\\\\ectools\\\\testing\\\\data\\\\240902_05_MCL13_cswWE_CV2_750C_CO2.DTA', 'Format is Gamry']\n",
      "['-F- c:\\\\code\\\\py\\\\pkg\\\\ectools\\\\testing\\\\data\\\\240902_06a_OCP.DTA', 'Format is Gamry']\n",
      "['-F- c:\\\\code\\\\py\\\\pkg\\\\ectools\\\\testing\\\\data\\\\240902_06_MCL13_cswWE_CV2_750C_CO2.DTA', 'Format is Gamry']\n",
      "['-F- c:\\\\code\\\\py\\\\pkg\\\\ectools\\\\testing\\\\data\\\\240902_07a_OCP.DTA', 'Format is Gamry']\n",
      "['-F- c:\\\\code\\\\py\\\\pkg\\\\ectools\\\\testing\\\\data\\\\240902_07_MCL13_cswWE_CV2_750C_CO2.DTA', 'Format is Gamry']\n",
      "['-F- c:\\\\code\\\\py\\\\pkg\\\\ectools\\\\testing\\\\data\\\\240902_08a_OCP.DTA', 'Format is Gamry']\n",
      "['-F- c:\\\\code\\\\py\\\\pkg\\\\ectools\\\\testing\\\\data\\\\240902_08_MCL13_cswWE_CV2_750C_CO2.DTA', 'Format is Gamry']\n",
      "['-F- c:\\\\code\\\\py\\\\pkg\\\\ectools\\\\testing\\\\data\\\\240902_09a_OCP.DTA', 'Format is Gamry']\n",
      "['-F- c:\\\\code\\\\py\\\\pkg\\\\ectools\\\\testing\\\\data\\\\240902_09_MCL13_cswWE_CV2_750C_CO2.DTA', 'Format is Gamry']\n",
      "['-F- c:\\\\code\\\\py\\\\pkg\\\\ectools\\\\testing\\\\data\\\\240902_10a_OCP.DTA', 'Format is Gamry']\n",
      "['-F- c:\\\\code\\\\py\\\\pkg\\\\ectools\\\\testing\\\\data\\\\240902_10_MCL13_cswWE_CV2_750C_CO2.DTA', 'Format is Gamry']\n",
      "['-F- c:\\\\code\\\\py\\\\pkg\\\\ectools\\\\testing\\\\data\\\\240902_11a_OCP.DTA', 'Format is Gamry']\n",
      "['-F- c:\\\\code\\\\py\\\\pkg\\\\ectools\\\\testing\\\\data\\\\240902_11_MCL13_cswWE_CV2_750C_CO2.DTA', 'Format is Gamry']\n",
      "['-F- c:\\\\code\\\\py\\\\pkg\\\\ectools\\\\testing\\\\data\\\\240902_12a_OCP.DTA', 'Format is Gamry']\n",
      "['-F- c:\\\\code\\\\py\\\\pkg\\\\ectools\\\\testing\\\\data\\\\240902_12_MCL13_cswWE_CV2_750C_CO2.DTA', 'Format is Gamry']\n",
      "['-F- c:\\\\code\\\\py\\\\pkg\\\\ectools\\\\testing\\\\data\\\\240902_13a_OCP.DTA', 'Format is Gamry']\n",
      "['-F- c:\\\\code\\\\py\\\\pkg\\\\ectools\\\\testing\\\\data\\\\240902_13_MCL13_cswWE_CV1_750C_CO2.DTA', 'Format is Gamry']\n",
      "['-F- c:\\\\code\\\\py\\\\pkg\\\\ectools\\\\testing\\\\data\\\\240902_14a_OCP.DTA', 'Format is Gamry']\n",
      "['-F- c:\\\\code\\\\py\\\\pkg\\\\ectools\\\\testing\\\\data\\\\240902_14_MCL13_cswWE_CV1_750C_CO2.DTA', 'Format is Gamry']\n",
      "['-F- c:\\\\code\\\\py\\\\pkg\\\\ectools\\\\testing\\\\data\\\\240902_15a_OCP.DTA', 'Format is Gamry']\n",
      "['-F- c:\\\\code\\\\py\\\\pkg\\\\ectools\\\\testing\\\\data\\\\240902_15_MCL13_cswWE_CV2_750C_CO2_post.DTA', 'Format is Gamry']\n",
      "['-F- c:\\\\code\\\\py\\\\pkg\\\\ectools\\\\testing\\\\data\\\\240902_16a_OCP.DTA', 'Format is Gamry']\n",
      "['-F- c:\\\\code\\\\py\\\\pkg\\\\ectools\\\\testing\\\\data\\\\240902_16_MCL13_cswWE_CV10_750C_CO2.DTA', 'Format is Gamry']\n",
      "['-F- c:\\\\code\\\\py\\\\pkg\\\\ectools\\\\testing\\\\data\\\\240902_17a_OCP.DTA', 'Format is Gamry']\n",
      "['-F- c:\\\\code\\\\py\\\\pkg\\\\ectools\\\\testing\\\\data\\\\240902_17_MCL13_cswWE_CV20_750C_CO2.DTA', 'Format is Gamry']\n",
      "['-F- c:\\\\code\\\\py\\\\pkg\\\\ectools\\\\testing\\\\data\\\\240902_18a_OCP.DTA', 'Format is Gamry']\n",
      "['-F- c:\\\\code\\\\py\\\\pkg\\\\ectools\\\\testing\\\\data\\\\240902_18_MCL13_cswWE_CV50_750C_CO2.DTA', 'Format is Gamry']\n",
      "['-F- c:\\\\code\\\\py\\\\pkg\\\\ectools\\\\testing\\\\data\\\\240902_19a_OCP.DTA', 'Format is Gamry']\n",
      "['-F- c:\\\\code\\\\py\\\\pkg\\\\ectools\\\\testing\\\\data\\\\240902_19_MCL13_cspWE_CV2_750C_CO2.DTA', 'Format is Gamry']\n",
      "['-F- c:\\\\code\\\\py\\\\pkg\\\\ectools\\\\testing\\\\data\\\\240902_20a_OCP.DTA', 'Format is Gamry']\n",
      "['-F- c:\\\\code\\\\py\\\\pkg\\\\ectools\\\\testing\\\\data\\\\240902_20_MCL13_cspWE_CV2_750C_CO2.DTA', 'Format is Gamry']\n",
      "['-F- c:\\\\code\\\\py\\\\pkg\\\\ectools\\\\testing\\\\data\\\\240902_21a_OCP.DTA', 'Format is Gamry']\n",
      "['-F- c:\\\\code\\\\py\\\\pkg\\\\ectools\\\\testing\\\\data\\\\240902_21_MCL13_cspWE_CV2_750C_CO2.DTA', 'Format is Gamry']\n",
      "['-F- c:\\\\code\\\\py\\\\pkg\\\\ectools\\\\testing\\\\data\\\\240902_22a_OCP.DTA', 'Format is Gamry']\n",
      "['-F- c:\\\\code\\\\py\\\\pkg\\\\ectools\\\\testing\\\\data\\\\240902_22_MCL13_cspWE_CV1_750C_CO2.DTA', 'Format is Gamry']\n",
      "['-F- c:\\\\code\\\\py\\\\pkg\\\\ectools\\\\testing\\\\data\\\\240902_23a_OCP.DTA', 'Format is Gamry']\n",
      "['-F- c:\\\\code\\\\py\\\\pkg\\\\ectools\\\\testing\\\\data\\\\240902_23_MCL13_cspWE_CV1_750C_CO2.DTA', 'Format is Gamry']\n",
      "['-F- c:\\\\code\\\\py\\\\pkg\\\\ectools\\\\testing\\\\data\\\\240902_24a_OCP.DTA', 'Format is Gamry']\n",
      "['-F- c:\\\\code\\\\py\\\\pkg\\\\ectools\\\\testing\\\\data\\\\240902_24_MCL13_cspWE_CV2_750C_CO2.DTA', 'Format is Gamry']\n",
      "['-F- c:\\\\code\\\\py\\\\pkg\\\\ectools\\\\testing\\\\data\\\\240902_GALVEIS.DTA', 'Format is Gamry']\n",
      "Processed 49 files, parsed 0\n",
      "ecList with 0 items\n"
     ]
    }
   ],
   "source": [
    "imp = ec.ecImporter()\n",
    "f = imp.load_folder(data_path)\n",
    "\n",
    "print(f)"
   ]
  },
  {
   "cell_type": "code",
   "execution_count": 4,
   "metadata": {},
   "outputs": [
    {
     "ename": "AttributeError",
     "evalue": "'ecList' object has no attribute 'log'",
     "output_type": "error",
     "traceback": [
      "\u001b[1;31m---------------------------------------------------------------------------\u001b[0m",
      "\u001b[1;31mAttributeError\u001b[0m                            Traceback (most recent call last)",
      "Cell \u001b[1;32mIn[4], line 1\u001b[0m\n\u001b[1;32m----> 1\u001b[0m \u001b[38;5;28mprint\u001b[39m(f\u001b[38;5;241m.\u001b[39mlog)\n",
      "\u001b[1;31mAttributeError\u001b[0m: 'ecList' object has no attribute 'log'"
     ]
    }
   ],
   "source": [
    "print(f.log)"
   ]
  },
  {
   "cell_type": "code",
   "execution_count": 41,
   "metadata": {},
   "outputs": [
    {
     "name": "stdout",
     "output_type": "stream",
     "text": [
      "{'TAG': {'value': 'CV'}, 'TITLE': {'label': 'LABEL', 'value': 'Cyclic Voltammetry', 'description': 'Test Identifier'}, 'DATE': {'label': 'LABEL', 'value': '9/3/2024', 'description': 'Date'}, 'TIME': {'label': 'LABEL', 'value': '17:42:40', 'description': 'Time'}, 'NOTES': {'value': '\\tcswWE - carbon steel wire\\ncspWE - carbon steel plate 2x2 tapered\\n\\nCarbon steel plate counter electrode\\nCarbon steel wire reference electrode\\n'}, 'PSTAT': {'label': 'PSTAT', 'value': 'REF3000-48128', 'description': 'Potentiostat'}, 'VINIT': {'label': 'POTEN', 'value': '0.00000E+000', 'description': 'T, Initial E (V)'}, 'VLIMIT1': {'label': 'POTEN', 'value': '1.70000E+000', 'description': 'F, Scan Limit 1 (V)'}, 'VLIMIT2': {'label': 'POTEN', 'value': '-1.00000E+000', 'description': 'F, Scan Limit 2 (V)'}, 'VFINAL': {'label': 'POTEN', 'value': '1.70000E+000', 'description': 'F, Final E (V)'}, 'SCANRATE': {'label': 'QUANT', 'value': '4.99999E+001', 'description': 'Scan Rate (mV/s)'}, 'STEPSIZE': {'label': 'QUANT', 'value': '1.00000E+000', 'description': 'Step Size (mV)'}, 'CYCLES': {'label': 'IQUANT', 'value': '6', 'description': 'Cycles (#)'}, 'IMODE': {'label': 'SELECTOR', 'value': '0', 'description': 'I/E Range Mode'}, 'IRANGE': {'label': 'QUANT', 'value': '3.00000E-001', 'description': 'Max Current (mA)'}, 'AREA': {'label': 'QUANT', 'value': '1.00000E+000', 'description': 'Sample Area (cm^2)'}, 'EQDELAY': {'label': 'QUANT', 'value': '0.00000E+000', 'description': 'Equil. Time (s)'}, 'IRCOMP': {'label': 'SELECTOR', 'value': '0', 'description': 'IRComp'}, 'PFCOR': {'label': 'QUANT', 'value': '5.00000E+001', 'description': 'PF Corr. (ohm)'}, 'SAMPLINGMODE': {'label': 'SELECTOR', 'value': '1', 'description': 'Sampling Mode'}, 'EOC': {'label': 'QUANT', 'value': '0.1485671', 'description': 'Open Circuit (V)'}, 'ELECTRODETYPE': {'label': 'SELECTOR', 'value': '0', 'description': 'Electrode Type'}, 'STRIPPING': {'label': 'TOGGLE', 'value': 'F', 'description': 'Used for Stripping'}, 'SEQUENCER': {'label': 'TOGGLE', 'value': 'TRUE', 'description': 'Run as Sequence'}, 'PSTATMODEL': {'label': 'IQUANT', 'value': '5', 'description': 'Pstat Model'}, 'PSTATSECTION': {'label': 'LABEL', 'value': 'REF3000-48128', 'description': 'Pstat Section'}, 'PSTATSERIALNO': {'label': 'LABEL', 'value': '48128', 'description': 'Pstat Serial Number'}, 'CTRLMODE': {'label': 'IQUANT', 'value': '1', 'description': 'Control Mode'}, 'ELECTROMETER': {'label': 'IQUANT', 'value': '0', 'description': 'RE=0 or CS=1'}, 'IESTAB': {'label': 'IQUANT', 'value': '2', 'description': 'I/E Stability'}, 'CASPEED': {'label': 'IQUANT', 'value': '4', 'description': 'Control Amp Speed'}, 'CONVENTION': {'label': 'IQUANT', 'value': '1', 'description': 'Current Convention'}, 'ICHRANGE': {'label': 'IQUANT', 'value': '2', 'description': 'Ich Range'}, 'ICHRANGEMODE': {'label': 'TOGGLE', 'value': 'F', 'description': 'Ich Auto Range'}, 'ICHOFFSETENABLE': {'label': 'TOGGLE', 'value': 'F', 'description': 'Ich Offset Enable'}, 'ICHOFFSET': {'label': 'QUANT', 'value': '0', 'description': 'Ich Offset (V)'}, 'ICHFILTER': {'label': 'IQUANT', 'value': '2', 'description': 'Ich Filter'}, 'VCHRANGE': {'label': 'IQUANT', 'value': '2', 'description': 'Vch Range'}, 'VCHRANGEMODE': {'label': 'TOGGLE', 'value': 'F', 'description': 'Vch Auto Range'}, 'VCHOFFSETENABLE': {'label': 'TOGGLE', 'value': 'F', 'description': 'Vch Offset Enable'}, 'VCHOFFSET': {'label': 'QUANT', 'value': '0', 'description': 'Vch Offset (V)'}, 'VCHFILTER': {'label': 'IQUANT', 'value': '2', 'description': 'Vch Filter'}, 'ACHRANGE': {'label': 'IQUANT', 'value': '2', 'description': 'Ach Range'}, 'ACHOFFSETENABLE': {'label': 'TOGGLE', 'value': 'F', 'description': 'Ach Offset Enable'}, 'ACHOFFSET': {'label': 'QUANT', 'value': '0', 'description': 'Ach Offset (V)'}, 'ACHFILTER': {'label': 'IQUANT', 'value': '1', 'description': 'Ach Filter'}, 'IERANGELOWERLIMIT': {'label': 'IQUANT', 'value': '2', 'description': 'I/E Range Lower Limit'}, 'IERANGEMODE': {'label': 'TOGGLE', 'value': 'T', 'description': 'I/E AutoRange'}, 'IERANGE': {'label': 'IQUANT', 'value': '9', 'description': 'I/E Range'}, 'POSFEEDENABLE': {'label': 'TOGGLE', 'value': 'F', 'description': 'Positive Feedback IR Comp'}, 'POSFEEDRESISTANCE': {'label': 'QUANT', 'value': '0', 'description': 'Positive Feedback Resistance (ohm)'}, 'ACHSELECT': {'label': 'IQUANT', 'value': '4', 'description': 'Ach Select'}, 'SENSECABLEID': {'label': 'IQUANT', 'value': '14', 'description': 'Sense Cable ID'}, 'PWRCABLEID': {'label': 'IQUANT', 'value': '7', 'description': 'Power Cable ID'}, 'DCCALDATE': {'label': 'LABEL', 'value': '8/16/2024', 'description': 'DC Calibration Date'}, 'ACCALDATE': {'label': 'LABEL', 'value': '8/16/2024', 'description': 'AC Calibration Date'}, 'THERMOSELECT': {'label': 'IQUANT', 'value': '1', 'description': 'Thermo Select'}, 'FRAMEWORKVERSION': {'label': 'LABEL', 'value': '7.10.3', 'description': 'Framework Version'}, 'INSTRUMENTVERSION': {'label': 'LABEL', 'value': '4.91', 'description': 'Instrument Version'}, 'COMMVERSION': {'label': 'LABEL', 'value': '5.10', 'description': 'Communications Version'}, 'CPUPLDVERSION': {'label': 'LABEL', 'value': '6.00', 'description': 'CPU PLD Version'}, 'CTRLPLDVERSION': {'label': 'LABEL', 'value': '3.21', 'description': 'CTRL PLD Version'}, 'PSTATPLDVERSION': {'label': 'LABEL', 'value': '0.00', 'description': 'PSTAT PLD Version'}, 'COMPLIANCEVOLTAGE': {'label': 'IQUANT', 'value': '0', 'description': 'Compliance Voltage'}}\n"
     ]
    }
   ],
   "source": [
    "\n",
    "fpath = 'data/'\n",
    "fname = '240902_18_MCL13_cswWE_CV50_750C_CO2.DTA'\n",
    "\n",
    "meta_dict = {}\n",
    "with open(fpath + fname) as f: # Open the file to read the first lines\n",
    "    while line:=f.readline().strip():\n",
    "        line = line.split('\\t')\n",
    "        if \"TABLE\" in line:\n",
    "            break\n",
    "        match len(line):\n",
    "            case 1:\n",
    "                continue\n",
    "            case 2: \n",
    "                meta_dict[line[0]] = {'value': line[1]}\n",
    "            case 4 | 5:\n",
    "                if line[0] == 'NOTES': # handle the multi-line note field\n",
    "                    meta_dict[line[0]] = {'value': \"\"}\n",
    "                    for i in range(0,int(line[2])):\n",
    "                        meta_dict[line[0]]['value'] += f.readline().strip() # this also accounts for empty lines in notes, so the while loop keeps running\n",
    "                else:\n",
    "                    meta_dict[line[0]] = {\n",
    "                        'label': line[1],\n",
    "                        'value': line[2],\n",
    "                        'description': ', '.join(line[3:])\n",
    "                    }\n",
    "            case _:\n",
    "                print('WTF?') # todo raise error\n",
    "                print(line)\n",
    "\n",
    "print(meta_dict)\n"
   ]
  },
  {
   "cell_type": "code",
   "execution_count": null,
   "metadata": {},
   "outputs": [],
   "source": []
  }
 ],
 "metadata": {
  "kernelspec": {
   "display_name": "Python 3",
   "language": "python",
   "name": "python3"
  },
  "language_info": {
   "codemirror_mode": {
    "name": "ipython",
    "version": 3
   },
   "file_extension": ".py",
   "mimetype": "text/x-python",
   "name": "python",
   "nbconvert_exporter": "python",
   "pygments_lexer": "ipython3",
   "version": "3.12.1"
  }
 },
 "nbformat": 4,
 "nbformat_minor": 2
}
