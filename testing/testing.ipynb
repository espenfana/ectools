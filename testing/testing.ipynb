{
 "cells": [
  {
   "cell_type": "markdown",
   "metadata": {},
   "source": [
    "# Live testing"
   ]
  },
  {
   "cell_type": "code",
   "execution_count": 12,
   "metadata": {},
   "outputs": [],
   "source": [
    "import numpy as np\n",
    "import pandas as pd\n",
    "from matplotlib import pyplot as plt\n",
    "import os\n",
    "from datetime import datetime, timedelta\n",
    "\n",
    "import ectools as ec\n",
    "\n",
    "script_dir = os.path.dirname(os.path.abspath('testing'))\n",
    "FPATH = os.path.normpath(os.path.join(script_dir, 'data/'))\n",
    "FNAME = '241007_01_MCL21_cswWE1_CV2_CO2_750C.DTA'\n",
    "\n",
    "imp = ec.EcImporter()\n",
    "f = imp.load_file(FPATH, FNAME)"
   ]
  },
  {
   "cell_type": "code",
   "execution_count": 13,
   "metadata": {},
   "outputs": [
    {
     "name": "stdout",
     "output_type": "stream",
     "text": [
      "ectools.parse_file_gamry error:\n",
      "'utf-8' codec can't decode byte 0xb0 in position 6567: invalid start byte\n",
      "Processed 53 files, parsed 52\n"
     ]
    }
   ],
   "source": [
    "fl = imp.load_folder(FPATH)"
   ]
  },
  {
   "cell_type": "code",
   "execution_count": 18,
   "metadata": {},
   "outputs": [
    {
     "data": {
      "text/plain": [
       "0"
      ]
     },
     "execution_count": 18,
     "metadata": {},
     "output_type": "execute_result"
    }
   ],
   "source": [
    "f = fl[2]\n",
    "\n",
    "f.curr.size"
   ]
  },
  {
   "cell_type": "code",
   "execution_count": 3,
   "metadata": {},
   "outputs": [],
   "source": [
    "a = np.array(f.time, dtype=timedelta)[10]"
   ]
  }
 ],
 "metadata": {
  "kernelspec": {
   "display_name": "Python 3",
   "language": "python",
   "name": "python3"
  },
  "language_info": {
   "codemirror_mode": {
    "name": "ipython",
    "version": 3
   },
   "file_extension": ".py",
   "mimetype": "text/x-python",
   "name": "python",
   "nbconvert_exporter": "python",
   "pygments_lexer": "ipython3",
   "version": "3.12.2"
  }
 },
 "nbformat": 4,
 "nbformat_minor": 2
}
